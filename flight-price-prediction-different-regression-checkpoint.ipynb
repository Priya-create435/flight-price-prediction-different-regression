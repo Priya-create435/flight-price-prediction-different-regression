{
 "cells": [
  {
   "cell_type": "code",
   "execution_count": 1,
   "id": "42be3e25",
   "metadata": {
    "execution": {
     "iopub.execute_input": "2023-06-23T09:16:01.884791Z",
     "iopub.status.busy": "2023-06-23T09:16:01.884383Z",
     "iopub.status.idle": "2023-06-23T09:16:03.344978Z",
     "shell.execute_reply": "2023-06-23T09:16:03.344063Z"
    },
    "papermill": {
     "duration": 1.473915,
     "end_time": "2023-06-23T09:16:03.347677",
     "exception": false,
     "start_time": "2023-06-23T09:16:01.873762",
     "status": "completed"
    },
    "tags": []
   },
   "outputs": [],
   "source": [
    "import numpy as np\n",
    "import pandas as pd\n",
    "import seaborn as sns\n",
    "import warnings\n",
    "warnings.filterwarnings('ignore')\n",
    "import matplotlib.pyplot as plt"
   ]
  },
  {
   "cell_type": "code",
   "execution_count": 2,
   "id": "e7e45fba",
   "metadata": {
    "execution": {
     "iopub.execute_input": "2023-06-23T09:16:03.362976Z",
     "iopub.status.busy": "2023-06-23T09:16:03.362571Z",
     "iopub.status.idle": "2023-06-23T09:16:04.097506Z",
     "shell.execute_reply": "2023-06-23T09:16:04.096359Z"
    },
    "papermill": {
     "duration": 0.745639,
     "end_time": "2023-06-23T09:16:04.100221",
     "exception": false,
     "start_time": "2023-06-23T09:16:03.354582",
     "status": "completed"
    },
    "tags": []
   },
   "outputs": [
    {
     "data": {
      "text/html": [
       "<div>\n",
       "<style scoped>\n",
       "    .dataframe tbody tr th:only-of-type {\n",
       "        vertical-align: middle;\n",
       "    }\n",
       "\n",
       "    .dataframe tbody tr th {\n",
       "        vertical-align: top;\n",
       "    }\n",
       "\n",
       "    .dataframe thead th {\n",
       "        text-align: right;\n",
       "    }\n",
       "</style>\n",
       "<table border=\"1\" class=\"dataframe\">\n",
       "  <thead>\n",
       "    <tr style=\"text-align: right;\">\n",
       "      <th></th>\n",
       "      <th>Unnamed: 0</th>\n",
       "      <th>airline</th>\n",
       "      <th>flight</th>\n",
       "      <th>source_city</th>\n",
       "      <th>departure_time</th>\n",
       "      <th>stops</th>\n",
       "      <th>arrival_time</th>\n",
       "      <th>destination_city</th>\n",
       "      <th>class</th>\n",
       "      <th>duration</th>\n",
       "      <th>days_left</th>\n",
       "      <th>price</th>\n",
       "    </tr>\n",
       "  </thead>\n",
       "  <tbody>\n",
       "    <tr>\n",
       "      <th>0</th>\n",
       "      <td>0</td>\n",
       "      <td>SpiceJet</td>\n",
       "      <td>SG-8709</td>\n",
       "      <td>Delhi</td>\n",
       "      <td>Evening</td>\n",
       "      <td>zero</td>\n",
       "      <td>Night</td>\n",
       "      <td>Mumbai</td>\n",
       "      <td>Economy</td>\n",
       "      <td>2.17</td>\n",
       "      <td>1</td>\n",
       "      <td>5953</td>\n",
       "    </tr>\n",
       "    <tr>\n",
       "      <th>1</th>\n",
       "      <td>1</td>\n",
       "      <td>SpiceJet</td>\n",
       "      <td>SG-8157</td>\n",
       "      <td>Delhi</td>\n",
       "      <td>Early_Morning</td>\n",
       "      <td>zero</td>\n",
       "      <td>Morning</td>\n",
       "      <td>Mumbai</td>\n",
       "      <td>Economy</td>\n",
       "      <td>2.33</td>\n",
       "      <td>1</td>\n",
       "      <td>5953</td>\n",
       "    </tr>\n",
       "    <tr>\n",
       "      <th>2</th>\n",
       "      <td>2</td>\n",
       "      <td>AirAsia</td>\n",
       "      <td>I5-764</td>\n",
       "      <td>Delhi</td>\n",
       "      <td>Early_Morning</td>\n",
       "      <td>zero</td>\n",
       "      <td>Early_Morning</td>\n",
       "      <td>Mumbai</td>\n",
       "      <td>Economy</td>\n",
       "      <td>2.17</td>\n",
       "      <td>1</td>\n",
       "      <td>5956</td>\n",
       "    </tr>\n",
       "    <tr>\n",
       "      <th>3</th>\n",
       "      <td>3</td>\n",
       "      <td>Vistara</td>\n",
       "      <td>UK-995</td>\n",
       "      <td>Delhi</td>\n",
       "      <td>Morning</td>\n",
       "      <td>zero</td>\n",
       "      <td>Afternoon</td>\n",
       "      <td>Mumbai</td>\n",
       "      <td>Economy</td>\n",
       "      <td>2.25</td>\n",
       "      <td>1</td>\n",
       "      <td>5955</td>\n",
       "    </tr>\n",
       "    <tr>\n",
       "      <th>4</th>\n",
       "      <td>4</td>\n",
       "      <td>Vistara</td>\n",
       "      <td>UK-963</td>\n",
       "      <td>Delhi</td>\n",
       "      <td>Morning</td>\n",
       "      <td>zero</td>\n",
       "      <td>Morning</td>\n",
       "      <td>Mumbai</td>\n",
       "      <td>Economy</td>\n",
       "      <td>2.33</td>\n",
       "      <td>1</td>\n",
       "      <td>5955</td>\n",
       "    </tr>\n",
       "    <tr>\n",
       "      <th>...</th>\n",
       "      <td>...</td>\n",
       "      <td>...</td>\n",
       "      <td>...</td>\n",
       "      <td>...</td>\n",
       "      <td>...</td>\n",
       "      <td>...</td>\n",
       "      <td>...</td>\n",
       "      <td>...</td>\n",
       "      <td>...</td>\n",
       "      <td>...</td>\n",
       "      <td>...</td>\n",
       "      <td>...</td>\n",
       "    </tr>\n",
       "    <tr>\n",
       "      <th>300148</th>\n",
       "      <td>300148</td>\n",
       "      <td>Vistara</td>\n",
       "      <td>UK-822</td>\n",
       "      <td>Chennai</td>\n",
       "      <td>Morning</td>\n",
       "      <td>one</td>\n",
       "      <td>Evening</td>\n",
       "      <td>Hyderabad</td>\n",
       "      <td>Business</td>\n",
       "      <td>10.08</td>\n",
       "      <td>49</td>\n",
       "      <td>69265</td>\n",
       "    </tr>\n",
       "    <tr>\n",
       "      <th>300149</th>\n",
       "      <td>300149</td>\n",
       "      <td>Vistara</td>\n",
       "      <td>UK-826</td>\n",
       "      <td>Chennai</td>\n",
       "      <td>Afternoon</td>\n",
       "      <td>one</td>\n",
       "      <td>Night</td>\n",
       "      <td>Hyderabad</td>\n",
       "      <td>Business</td>\n",
       "      <td>10.42</td>\n",
       "      <td>49</td>\n",
       "      <td>77105</td>\n",
       "    </tr>\n",
       "    <tr>\n",
       "      <th>300150</th>\n",
       "      <td>300150</td>\n",
       "      <td>Vistara</td>\n",
       "      <td>UK-832</td>\n",
       "      <td>Chennai</td>\n",
       "      <td>Early_Morning</td>\n",
       "      <td>one</td>\n",
       "      <td>Night</td>\n",
       "      <td>Hyderabad</td>\n",
       "      <td>Business</td>\n",
       "      <td>13.83</td>\n",
       "      <td>49</td>\n",
       "      <td>79099</td>\n",
       "    </tr>\n",
       "    <tr>\n",
       "      <th>300151</th>\n",
       "      <td>300151</td>\n",
       "      <td>Vistara</td>\n",
       "      <td>UK-828</td>\n",
       "      <td>Chennai</td>\n",
       "      <td>Early_Morning</td>\n",
       "      <td>one</td>\n",
       "      <td>Evening</td>\n",
       "      <td>Hyderabad</td>\n",
       "      <td>Business</td>\n",
       "      <td>10.00</td>\n",
       "      <td>49</td>\n",
       "      <td>81585</td>\n",
       "    </tr>\n",
       "    <tr>\n",
       "      <th>300152</th>\n",
       "      <td>300152</td>\n",
       "      <td>Vistara</td>\n",
       "      <td>UK-822</td>\n",
       "      <td>Chennai</td>\n",
       "      <td>Morning</td>\n",
       "      <td>one</td>\n",
       "      <td>Evening</td>\n",
       "      <td>Hyderabad</td>\n",
       "      <td>Business</td>\n",
       "      <td>10.08</td>\n",
       "      <td>49</td>\n",
       "      <td>81585</td>\n",
       "    </tr>\n",
       "  </tbody>\n",
       "</table>\n",
       "<p>300153 rows × 12 columns</p>\n",
       "</div>"
      ],
      "text/plain": [
       "        Unnamed: 0   airline   flight source_city departure_time stops  \\\n",
       "0                0  SpiceJet  SG-8709       Delhi        Evening  zero   \n",
       "1                1  SpiceJet  SG-8157       Delhi  Early_Morning  zero   \n",
       "2                2   AirAsia   I5-764       Delhi  Early_Morning  zero   \n",
       "3                3   Vistara   UK-995       Delhi        Morning  zero   \n",
       "4                4   Vistara   UK-963       Delhi        Morning  zero   \n",
       "...            ...       ...      ...         ...            ...   ...   \n",
       "300148      300148   Vistara   UK-822     Chennai        Morning   one   \n",
       "300149      300149   Vistara   UK-826     Chennai      Afternoon   one   \n",
       "300150      300150   Vistara   UK-832     Chennai  Early_Morning   one   \n",
       "300151      300151   Vistara   UK-828     Chennai  Early_Morning   one   \n",
       "300152      300152   Vistara   UK-822     Chennai        Morning   one   \n",
       "\n",
       "         arrival_time destination_city     class  duration  days_left  price  \n",
       "0               Night           Mumbai   Economy      2.17          1   5953  \n",
       "1             Morning           Mumbai   Economy      2.33          1   5953  \n",
       "2       Early_Morning           Mumbai   Economy      2.17          1   5956  \n",
       "3           Afternoon           Mumbai   Economy      2.25          1   5955  \n",
       "4             Morning           Mumbai   Economy      2.33          1   5955  \n",
       "...               ...              ...       ...       ...        ...    ...  \n",
       "300148        Evening        Hyderabad  Business     10.08         49  69265  \n",
       "300149          Night        Hyderabad  Business     10.42         49  77105  \n",
       "300150          Night        Hyderabad  Business     13.83         49  79099  \n",
       "300151        Evening        Hyderabad  Business     10.00         49  81585  \n",
       "300152        Evening        Hyderabad  Business     10.08         49  81585  \n",
       "\n",
       "[300153 rows x 12 columns]"
      ]
     },
     "execution_count": 2,
     "metadata": {},
     "output_type": "execute_result"
    }
   ],
   "source": [
    "df=pd.read_csv('/kaggle/input/flight-price-prediction/Clean_Dataset.csv')\n",
    "df"
   ]
  },
  {
   "cell_type": "code",
   "execution_count": 3,
   "id": "a1d8460b",
   "metadata": {
    "execution": {
     "iopub.execute_input": "2023-06-23T09:16:04.116802Z",
     "iopub.status.busy": "2023-06-23T09:16:04.115769Z",
     "iopub.status.idle": "2023-06-23T09:16:04.121659Z",
     "shell.execute_reply": "2023-06-23T09:16:04.120774Z"
    },
    "papermill": {
     "duration": 0.016478,
     "end_time": "2023-06-23T09:16:04.123773",
     "exception": false,
     "start_time": "2023-06-23T09:16:04.107295",
     "status": "completed"
    },
    "tags": []
   },
   "outputs": [
    {
     "data": {
      "text/plain": [
       "(300153, 12)"
      ]
     },
     "execution_count": 3,
     "metadata": {},
     "output_type": "execute_result"
    }
   ],
   "source": [
    "df.shape"
   ]
  },
  {
   "cell_type": "code",
   "execution_count": 4,
   "id": "77ec22ea",
   "metadata": {
    "execution": {
     "iopub.execute_input": "2023-06-23T09:16:04.139933Z",
     "iopub.status.busy": "2023-06-23T09:16:04.139162Z",
     "iopub.status.idle": "2023-06-23T09:16:04.194602Z",
     "shell.execute_reply": "2023-06-23T09:16:04.193648Z"
    },
    "papermill": {
     "duration": 0.065925,
     "end_time": "2023-06-23T09:16:04.196906",
     "exception": false,
     "start_time": "2023-06-23T09:16:04.130981",
     "status": "completed"
    },
    "tags": []
   },
   "outputs": [
    {
     "data": {
      "text/html": [
       "<div>\n",
       "<style scoped>\n",
       "    .dataframe tbody tr th:only-of-type {\n",
       "        vertical-align: middle;\n",
       "    }\n",
       "\n",
       "    .dataframe tbody tr th {\n",
       "        vertical-align: top;\n",
       "    }\n",
       "\n",
       "    .dataframe thead th {\n",
       "        text-align: right;\n",
       "    }\n",
       "</style>\n",
       "<table border=\"1\" class=\"dataframe\">\n",
       "  <thead>\n",
       "    <tr style=\"text-align: right;\">\n",
       "      <th></th>\n",
       "      <th>Unnamed: 0</th>\n",
       "      <th>duration</th>\n",
       "      <th>days_left</th>\n",
       "      <th>price</th>\n",
       "    </tr>\n",
       "  </thead>\n",
       "  <tbody>\n",
       "    <tr>\n",
       "      <th>count</th>\n",
       "      <td>300153.000000</td>\n",
       "      <td>300153.000000</td>\n",
       "      <td>300153.000000</td>\n",
       "      <td>300153.000000</td>\n",
       "    </tr>\n",
       "    <tr>\n",
       "      <th>mean</th>\n",
       "      <td>150076.000000</td>\n",
       "      <td>12.221021</td>\n",
       "      <td>26.004751</td>\n",
       "      <td>20889.660523</td>\n",
       "    </tr>\n",
       "    <tr>\n",
       "      <th>std</th>\n",
       "      <td>86646.852011</td>\n",
       "      <td>7.191997</td>\n",
       "      <td>13.561004</td>\n",
       "      <td>22697.767366</td>\n",
       "    </tr>\n",
       "    <tr>\n",
       "      <th>min</th>\n",
       "      <td>0.000000</td>\n",
       "      <td>0.830000</td>\n",
       "      <td>1.000000</td>\n",
       "      <td>1105.000000</td>\n",
       "    </tr>\n",
       "    <tr>\n",
       "      <th>25%</th>\n",
       "      <td>75038.000000</td>\n",
       "      <td>6.830000</td>\n",
       "      <td>15.000000</td>\n",
       "      <td>4783.000000</td>\n",
       "    </tr>\n",
       "    <tr>\n",
       "      <th>50%</th>\n",
       "      <td>150076.000000</td>\n",
       "      <td>11.250000</td>\n",
       "      <td>26.000000</td>\n",
       "      <td>7425.000000</td>\n",
       "    </tr>\n",
       "    <tr>\n",
       "      <th>75%</th>\n",
       "      <td>225114.000000</td>\n",
       "      <td>16.170000</td>\n",
       "      <td>38.000000</td>\n",
       "      <td>42521.000000</td>\n",
       "    </tr>\n",
       "    <tr>\n",
       "      <th>max</th>\n",
       "      <td>300152.000000</td>\n",
       "      <td>49.830000</td>\n",
       "      <td>49.000000</td>\n",
       "      <td>123071.000000</td>\n",
       "    </tr>\n",
       "  </tbody>\n",
       "</table>\n",
       "</div>"
      ],
      "text/plain": [
       "          Unnamed: 0       duration      days_left          price\n",
       "count  300153.000000  300153.000000  300153.000000  300153.000000\n",
       "mean   150076.000000      12.221021      26.004751   20889.660523\n",
       "std     86646.852011       7.191997      13.561004   22697.767366\n",
       "min         0.000000       0.830000       1.000000    1105.000000\n",
       "25%     75038.000000       6.830000      15.000000    4783.000000\n",
       "50%    150076.000000      11.250000      26.000000    7425.000000\n",
       "75%    225114.000000      16.170000      38.000000   42521.000000\n",
       "max    300152.000000      49.830000      49.000000  123071.000000"
      ]
     },
     "execution_count": 4,
     "metadata": {},
     "output_type": "execute_result"
    }
   ],
   "source": [
    "df.describe()"
   ]
  },
  {
   "cell_type": "code",
   "execution_count": 5,
   "id": "34676089",
   "metadata": {
    "execution": {
     "iopub.execute_input": "2023-06-23T09:16:04.213215Z",
     "iopub.status.busy": "2023-06-23T09:16:04.212794Z",
     "iopub.status.idle": "2023-06-23T09:16:04.568702Z",
     "shell.execute_reply": "2023-06-23T09:16:04.567179Z"
    },
    "papermill": {
     "duration": 0.366657,
     "end_time": "2023-06-23T09:16:04.571034",
     "exception": false,
     "start_time": "2023-06-23T09:16:04.204377",
     "status": "completed"
    },
    "tags": []
   },
   "outputs": [
    {
     "name": "stdout",
     "output_type": "stream",
     "text": [
      "<class 'pandas.core.frame.DataFrame'>\n",
      "RangeIndex: 300153 entries, 0 to 300152\n",
      "Data columns (total 12 columns):\n",
      " #   Column            Non-Null Count   Dtype  \n",
      "---  ------            --------------   -----  \n",
      " 0   Unnamed: 0        300153 non-null  int64  \n",
      " 1   airline           300153 non-null  object \n",
      " 2   flight            300153 non-null  object \n",
      " 3   source_city       300153 non-null  object \n",
      " 4   departure_time    300153 non-null  object \n",
      " 5   stops             300153 non-null  object \n",
      " 6   arrival_time      300153 non-null  object \n",
      " 7   destination_city  300153 non-null  object \n",
      " 8   class             300153 non-null  object \n",
      " 9   duration          300153 non-null  float64\n",
      " 10  days_left         300153 non-null  int64  \n",
      " 11  price             300153 non-null  int64  \n",
      "dtypes: float64(1), int64(3), object(8)\n",
      "memory usage: 27.5+ MB\n"
     ]
    }
   ],
   "source": [
    "df.info()"
   ]
  },
  {
   "cell_type": "code",
   "execution_count": 6,
   "id": "1b645f7a",
   "metadata": {
    "execution": {
     "iopub.execute_input": "2023-06-23T09:16:04.587435Z",
     "iopub.status.busy": "2023-06-23T09:16:04.587083Z",
     "iopub.status.idle": "2023-06-23T09:16:04.593596Z",
     "shell.execute_reply": "2023-06-23T09:16:04.592523Z"
    },
    "papermill": {
     "duration": 0.017278,
     "end_time": "2023-06-23T09:16:04.595779",
     "exception": false,
     "start_time": "2023-06-23T09:16:04.578501",
     "status": "completed"
    },
    "tags": []
   },
   "outputs": [
    {
     "data": {
      "text/plain": [
       "Index(['Unnamed: 0', 'airline', 'flight', 'source_city', 'departure_time',\n",
       "       'stops', 'arrival_time', 'destination_city', 'class', 'duration',\n",
       "       'days_left', 'price'],\n",
       "      dtype='object')"
      ]
     },
     "execution_count": 6,
     "metadata": {},
     "output_type": "execute_result"
    }
   ],
   "source": [
    "df.columns"
   ]
  },
  {
   "cell_type": "code",
   "execution_count": 7,
   "id": "d3b60194",
   "metadata": {
    "execution": {
     "iopub.execute_input": "2023-06-23T09:16:04.612459Z",
     "iopub.status.busy": "2023-06-23T09:16:04.612101Z",
     "iopub.status.idle": "2023-06-23T09:16:04.659730Z",
     "shell.execute_reply": "2023-06-23T09:16:04.658786Z"
    },
    "papermill": {
     "duration": 0.058974,
     "end_time": "2023-06-23T09:16:04.662461",
     "exception": false,
     "start_time": "2023-06-23T09:16:04.603487",
     "status": "completed"
    },
    "tags": []
   },
   "outputs": [],
   "source": [
    "df.drop(columns='Unnamed: 0',inplace=True)"
   ]
  },
  {
   "cell_type": "code",
   "execution_count": 8,
   "id": "e0b0f103",
   "metadata": {
    "execution": {
     "iopub.execute_input": "2023-06-23T09:16:04.679835Z",
     "iopub.status.busy": "2023-06-23T09:16:04.679113Z",
     "iopub.status.idle": "2023-06-23T09:16:04.878748Z",
     "shell.execute_reply": "2023-06-23T09:16:04.877671Z"
    },
    "papermill": {
     "duration": 0.210779,
     "end_time": "2023-06-23T09:16:04.881107",
     "exception": false,
     "start_time": "2023-06-23T09:16:04.670328",
     "status": "completed"
    },
    "tags": []
   },
   "outputs": [
    {
     "data": {
      "text/plain": [
       "0"
      ]
     },
     "execution_count": 8,
     "metadata": {},
     "output_type": "execute_result"
    }
   ],
   "source": [
    "df.duplicated().sum()"
   ]
  },
  {
   "cell_type": "code",
   "execution_count": 9,
   "id": "0cee5514",
   "metadata": {
    "execution": {
     "iopub.execute_input": "2023-06-23T09:16:04.898049Z",
     "iopub.status.busy": "2023-06-23T09:16:04.897679Z",
     "iopub.status.idle": "2023-06-23T09:16:05.236019Z",
     "shell.execute_reply": "2023-06-23T09:16:05.234903Z"
    },
    "papermill": {
     "duration": 0.349256,
     "end_time": "2023-06-23T09:16:05.238148",
     "exception": false,
     "start_time": "2023-06-23T09:16:04.888892",
     "status": "completed"
    },
    "tags": []
   },
   "outputs": [
    {
     "data": {
      "text/plain": [
       "airline             0\n",
       "flight              0\n",
       "source_city         0\n",
       "departure_time      0\n",
       "stops               0\n",
       "arrival_time        0\n",
       "destination_city    0\n",
       "class               0\n",
       "duration            0\n",
       "days_left           0\n",
       "price               0\n",
       "dtype: int64"
      ]
     },
     "execution_count": 9,
     "metadata": {},
     "output_type": "execute_result"
    }
   ],
   "source": [
    "df.isna().sum()"
   ]
  },
  {
   "cell_type": "code",
   "execution_count": 10,
   "id": "39b85c0f",
   "metadata": {
    "execution": {
     "iopub.execute_input": "2023-06-23T09:16:05.255336Z",
     "iopub.status.busy": "2023-06-23T09:16:05.254963Z",
     "iopub.status.idle": "2023-06-23T09:16:05.539117Z",
     "shell.execute_reply": "2023-06-23T09:16:05.538206Z"
    },
    "papermill": {
     "duration": 0.295423,
     "end_time": "2023-06-23T09:16:05.541394",
     "exception": false,
     "start_time": "2023-06-23T09:16:05.245971",
     "status": "completed"
    },
    "tags": []
   },
   "outputs": [
    {
     "data": {
      "text/plain": [
       "<Axes: >"
      ]
     },
     "execution_count": 10,
     "metadata": {},
     "output_type": "execute_result"
    },
    {
     "data": {
      "image/png": "[encoded data removed]",
      "text/plain": [
       "<Figure size 640x480 with 1 Axes>"
      ]
     },
     "metadata": {},
     "output_type": "display_data"
    }
   ],
   "source": [
    "air=df['airline'].value_counts()\n",
    "sns.barplot(df,x=air.index,y=air.values)"
   ]
  },
  {
   "cell_type": "code",
   "execution_count": 11,
   "id": "4f487739",
   "metadata": {
    "execution": {
     "iopub.execute_input": "2023-06-23T09:16:05.559570Z",
     "iopub.status.busy": "2023-06-23T09:16:05.559228Z",
     "iopub.status.idle": "2023-06-23T09:16:05.747001Z",
     "shell.execute_reply": "2023-06-23T09:16:05.745886Z"
    },
    "papermill": {
     "duration": 0.200393,
     "end_time": "2023-06-23T09:16:05.750114",
     "exception": false,
     "start_time": "2023-06-23T09:16:05.549721",
     "status": "completed"
    },
    "tags": []
   },
   "outputs": [
    {
     "data": {
      "text/plain": [
       "([<matplotlib.patches.Wedge at 0x7dae8a3dd270>,\n",
       "  <matplotlib.patches.Wedge at 0x7dae8a3dd390>,\n",
       "  <matplotlib.patches.Wedge at 0x7dae8a2945b0>,\n",
       "  <matplotlib.patches.Wedge at 0x7dae8a2941c0>,\n",
       "  <matplotlib.patches.Wedge at 0x7dae89ed02e0>,\n",
       "  <matplotlib.patches.Wedge at 0x7dae89ed0970>],\n",
       " [Text(0.8809535489223089, 0.6587266843245301, 'Delhi'),\n",
       "  Text(-0.3779004059372413, 1.0330495066512875, 'Mumbai'),\n",
       "  Text(-1.0992131326110681, 0.04159914777206989, 'Bangalore'),\n",
       "  Text(-0.6015577367721227, -0.9209388086781889, 'Kolkata'),\n",
       "  Text(0.36016745105880016, -1.0393649056985748, 'Hyderabad'),\n",
       "  Text(1.0109871514258975, -0.43348007987882137, 'Chennai')],\n",
       " [Text(0.4805201175939866, 0.35930546417701636, '20.4%'),\n",
       "  Text(-0.20612749414758613, 0.5634815490825203, '20.3%'),\n",
       "  Text(-0.5995707996060371, 0.02269044423931085, '17.3%'),\n",
       "  Text(-0.32812240187570324, -0.5023302592790121, '15.4%'),\n",
       "  Text(0.19645497330480005, -0.5669263121992225, '13.6%'),\n",
       "  Text(0.5514475371413986, -0.23644367993390253, '12.9%')])"
      ]
     },
     "execution_count": 11,
     "metadata": {},
     "output_type": "execute_result"
    },
    {
     "data": {
      "image/png": "[encoded data removed]",
      "text/plain": [
       "<Figure size 640x480 with 1 Axes>"
      ]
     },
     "metadata": {},
     "output_type": "display_data"
    }
   ],
   "source": [
    "scity=df['source_city'].value_counts()\n",
    "plt.pie(scity.values,labels=scity.index,autopct='%1.1f%%')"
   ]
  },
  {
   "cell_type": "code",
   "execution_count": 12,
   "id": "50e3e8e1",
   "metadata": {
    "execution": {
     "iopub.execute_input": "2023-06-23T09:16:05.782091Z",
     "iopub.status.busy": "2023-06-23T09:16:05.780709Z",
     "iopub.status.idle": "2023-06-23T09:16:07.821972Z",
     "shell.execute_reply": "2023-06-23T09:16:07.820933Z"
    },
    "papermill": {
     "duration": 2.059763,
     "end_time": "2023-06-23T09:16:07.824709",
     "exception": false,
     "start_time": "2023-06-23T09:16:05.764946",
     "status": "completed"
    },
    "tags": []
   },
   "outputs": [
    {
     "data": {
      "text/plain": [
       "<seaborn.axisgrid.FacetGrid at 0x7dae8a31b040>"
      ]
     },
     "execution_count": 12,
     "metadata": {},
     "output_type": "execute_result"
    },
    {
     "data": {
      "image/png": "[encoded data removed]",
      "text/plain": [
       "<Figure size 500x500 with 1 Axes>"
      ]
     },
     "metadata": {},
     "output_type": "display_data"
    }
   ],
   "source": [
    "sns.displot(df['price'],color='green',kde=True)"
   ]
  },
  {
   "cell_type": "code",
   "execution_count": 13,
   "id": "d36f6bcb",
   "metadata": {
    "execution": {
     "iopub.execute_input": "2023-06-23T09:16:07.845664Z",
     "iopub.status.busy": "2023-06-23T09:16:07.845256Z",
     "iopub.status.idle": "2023-06-23T09:16:08.405521Z",
     "shell.execute_reply": "2023-06-23T09:16:08.404268Z"
    },
    "papermill": {
     "duration": 0.573397,
     "end_time": "2023-06-23T09:16:08.407807",
     "exception": false,
     "start_time": "2023-06-23T09:16:07.834410",
     "status": "completed"
    },
    "tags": []
   },
   "outputs": [
    {
     "data": {
      "text/plain": [
       "duration        Axes(0.125,0.11;0.227941x0.77)\n",
       "days_left    Axes(0.398529,0.11;0.227941x0.77)\n",
       "price        Axes(0.672059,0.11;0.227941x0.77)\n",
       "dtype: object"
      ]
     },
     "execution_count": 13,
     "metadata": {},
     "output_type": "execute_result"
    },
    {
     "data": {
      "image/png": "[encoded data removed]",
      "text/plain": [
       "<Figure size 640x480 with 3 Axes>"
      ]
     },
     "metadata": {},
     "output_type": "display_data"
    }
   ],
   "source": [
    "df.plot(kind='box',subplots=True)"
   ]
  },
  {
   "cell_type": "code",
   "execution_count": 14,
   "id": "38df5f21",
   "metadata": {
    "execution": {
     "iopub.execute_input": "2023-06-23T09:16:08.431124Z",
     "iopub.status.busy": "2023-06-23T09:16:08.429824Z",
     "iopub.status.idle": "2023-06-23T09:16:08.643489Z",
     "shell.execute_reply": "2023-06-23T09:16:08.642578Z"
    },
    "papermill": {
     "duration": 0.227943,
     "end_time": "2023-06-23T09:16:08.646455",
     "exception": false,
     "start_time": "2023-06-23T09:16:08.418512",
     "status": "completed"
    },
    "tags": []
   },
   "outputs": [
    {
     "data": {
      "text/plain": [
       "<Axes: xlabel='duration'>"
      ]
     },
     "execution_count": 14,
     "metadata": {},
     "output_type": "execute_result"
    },
    {
     "data": {
      "image/png": "[encoded data removed]",
      "text/plain": [
       "<Figure size 640x480 with 1 Axes>"
      ]
     },
     "metadata": {},
     "output_type": "display_data"
    }
   ],
   "source": [
    "sns.boxplot(df,x='duration')"
   ]
  },
  {
   "cell_type": "code",
   "execution_count": 15,
   "id": "c600034a",
   "metadata": {
    "execution": {
     "iopub.execute_input": "2023-06-23T09:16:08.668958Z",
     "iopub.status.busy": "2023-06-23T09:16:08.668564Z",
     "iopub.status.idle": "2023-06-23T09:16:08.868188Z",
     "shell.execute_reply": "2023-06-23T09:16:08.867076Z"
    },
    "papermill": {
     "duration": 0.213411,
     "end_time": "2023-06-23T09:16:08.870501",
     "exception": false,
     "start_time": "2023-06-23T09:16:08.657090",
     "status": "completed"
    },
    "tags": []
   },
   "outputs": [
    {
     "data": {
      "text/plain": [
       "<Axes: xlabel='price'>"
      ]
     },
     "execution_count": 15,
     "metadata": {},
     "output_type": "execute_result"
    },
    {
     "data": {
      "image/png": "[encoded data removed]",
      "text/plain": [
       "<Figure size 640x480 with 1 Axes>"
      ]
     },
     "metadata": {},
     "output_type": "display_data"
    }
   ],
   "source": [
    "sns.boxplot(df,x='price')"
   ]
  },
  {
   "cell_type": "code",
   "execution_count": 16,
   "id": "e9645462",
   "metadata": {
    "execution": {
     "iopub.execute_input": "2023-06-23T09:16:08.893631Z",
     "iopub.status.busy": "2023-06-23T09:16:08.893255Z",
     "iopub.status.idle": "2023-06-23T09:16:09.323995Z",
     "shell.execute_reply": "2023-06-23T09:16:09.322909Z"
    },
    "papermill": {
     "duration": 0.444856,
     "end_time": "2023-06-23T09:16:09.326136",
     "exception": false,
     "start_time": "2023-06-23T09:16:08.881280",
     "status": "completed"
    },
    "tags": []
   },
   "outputs": [
    {
     "data": {
      "text/plain": [
       "<Axes: xlabel='airline', ylabel='price'>"
      ]
     },
     "execution_count": 16,
     "metadata": {},
     "output_type": "execute_result"
    },
    {
     "data": {
      "image/png": "[encoded data removed]",
      "text/plain": [
       "<Figure size 640x480 with 1 Axes>"
      ]
     },
     "metadata": {},
     "output_type": "display_data"
    }
   ],
   "source": [
    "sns.boxplot(df,x='airline',y='price')"
   ]
  },
  {
   "cell_type": "code",
   "execution_count": 17,
   "id": "a30aa0d5",
   "metadata": {
    "execution": {
     "iopub.execute_input": "2023-06-23T09:16:09.350276Z",
     "iopub.status.busy": "2023-06-23T09:16:09.349914Z",
     "iopub.status.idle": "2023-06-23T09:16:13.307904Z",
     "shell.execute_reply": "2023-06-23T09:16:13.306575Z"
    },
    "papermill": {
     "duration": 3.97363,
     "end_time": "2023-06-23T09:16:13.310892",
     "exception": false,
     "start_time": "2023-06-23T09:16:09.337262",
     "status": "completed"
    },
    "tags": []
   },
   "outputs": [
    {
     "data": {
      "text/plain": [
       "<Axes: xlabel='price', ylabel='Count'>"
      ]
     },
     "execution_count": 17,
     "metadata": {},
     "output_type": "execute_result"
    },
    {
     "data": {
      "image/png": "[encoded data removed]",
      "text/plain": [
       "<Figure size 1500x1000 with 2 Axes>"
      ]
     },
     "metadata": {},
     "output_type": "display_data"
    }
   ],
   "source": [
    "plt.figure(figsize=(15,10))\n",
    "plt.subplot(2,2,1)\n",
    "sns.histplot(x = 'price', data = df.loc[df[\"class\"]=='Economy'], kde = True,hue='class')\n",
    "plt.subplot(2,2,2)\n",
    "sns.histplot(x = 'price', data = df.loc[df[\"class\"]=='Business'], kde = True,hue='class')\n"
   ]
  },
  {
   "cell_type": "code",
   "execution_count": 18,
   "id": "28b243ee",
   "metadata": {
    "execution": {
     "iopub.execute_input": "2023-06-23T09:16:13.338446Z",
     "iopub.status.busy": "2023-06-23T09:16:13.338057Z",
     "iopub.status.idle": "2023-06-23T09:16:13.347494Z",
     "shell.execute_reply": "2023-06-23T09:16:13.346175Z"
    },
    "papermill": {
     "duration": 0.026013,
     "end_time": "2023-06-23T09:16:13.349978",
     "exception": false,
     "start_time": "2023-06-23T09:16:13.323965",
     "status": "completed"
    },
    "tags": []
   },
   "outputs": [
    {
     "data": {
      "text/plain": [
       "Index(['duration', 'days_left', 'price'], dtype='object')"
      ]
     },
     "execution_count": 18,
     "metadata": {},
     "output_type": "execute_result"
    }
   ],
   "source": [
    "numcols=df.select_dtypes(include='number').columns\n",
    "numcols"
   ]
  },
  {
   "cell_type": "code",
   "execution_count": 19,
   "id": "411006bb",
   "metadata": {
    "execution": {
     "iopub.execute_input": "2023-06-23T09:16:13.376995Z",
     "iopub.status.busy": "2023-06-23T09:16:13.376612Z",
     "iopub.status.idle": "2023-06-23T09:16:13.414577Z",
     "shell.execute_reply": "2023-06-23T09:16:13.413101Z"
    },
    "papermill": {
     "duration": 0.054522,
     "end_time": "2023-06-23T09:16:13.416977",
     "exception": false,
     "start_time": "2023-06-23T09:16:13.362455",
     "status": "completed"
    },
    "tags": []
   },
   "outputs": [
    {
     "data": {
      "text/plain": [
       "Index(['airline', 'flight', 'source_city', 'departure_time', 'stops',\n",
       "       'arrival_time', 'destination_city', 'class'],\n",
       "      dtype='object')"
      ]
     },
     "execution_count": 19,
     "metadata": {},
     "output_type": "execute_result"
    }
   ],
   "source": [
    "catcols=df.select_dtypes(include='object').columns\n",
    "catcols"
   ]
  },
  {
   "cell_type": "code",
   "execution_count": 20,
   "id": "5a4cfc6f",
   "metadata": {
    "execution": {
     "iopub.execute_input": "2023-06-23T09:16:13.444439Z",
     "iopub.status.busy": "2023-06-23T09:16:13.443792Z",
     "iopub.status.idle": "2023-06-23T09:16:14.214547Z",
     "shell.execute_reply": "2023-06-23T09:16:14.213516Z"
    },
    "papermill": {
     "duration": 0.78711,
     "end_time": "2023-06-23T09:16:14.217122",
     "exception": false,
     "start_time": "2023-06-23T09:16:13.430012",
     "status": "completed"
    },
    "tags": []
   },
   "outputs": [],
   "source": [
    "from sklearn.preprocessing import LabelEncoder\n",
    "le=LabelEncoder()\n",
    "for i in catcols:\n",
    "    df[i]=le.fit_transform(df[i])"
   ]
  },
  {
   "cell_type": "code",
   "execution_count": 21,
   "id": "d4a5e8b4",
   "metadata": {
    "execution": {
     "iopub.execute_input": "2023-06-23T09:16:14.243596Z",
     "iopub.status.busy": "2023-06-23T09:16:14.242841Z",
     "iopub.status.idle": "2023-06-23T09:16:15.147317Z",
     "shell.execute_reply": "2023-06-23T09:16:15.146294Z"
    },
    "papermill": {
     "duration": 0.921334,
     "end_time": "2023-06-23T09:16:15.150714",
     "exception": false,
     "start_time": "2023-06-23T09:16:14.229380",
     "status": "completed"
    },
    "tags": []
   },
   "outputs": [
    {
     "data": {
      "text/plain": [
       "<Axes: >"
      ]
     },
     "execution_count": 21,
     "metadata": {},
     "output_type": "execute_result"
    },
    {
     "data": {
      "image/png": "[encoded data removed]",
      "text/plain": [
       "<Figure size 1200x500 with 2 Axes>"
      ]
     },
     "metadata": {},
     "output_type": "display_data"
    }
   ],
   "source": [
    "plt.figure(figsize=(12,5))\n",
    "sns.heatmap(df.corr(),annot=True)"
   ]
  },
  {
   "cell_type": "code",
   "execution_count": 22,
   "id": "371c2935",
   "metadata": {
    "execution": {
     "iopub.execute_input": "2023-06-23T09:16:15.180908Z",
     "iopub.status.busy": "2023-06-23T09:16:15.180516Z",
     "iopub.status.idle": "2023-06-23T09:16:15.198588Z",
     "shell.execute_reply": "2023-06-23T09:16:15.197375Z"
    },
    "papermill": {
     "duration": 0.035776,
     "end_time": "2023-06-23T09:16:15.200967",
     "exception": false,
     "start_time": "2023-06-23T09:16:15.165191",
     "status": "completed"
    },
    "tags": []
   },
   "outputs": [],
   "source": [
    "x=df.drop(columns='price')\n",
    "y=df['price']"
   ]
  },
  {
   "cell_type": "code",
   "execution_count": 23,
   "id": "28664d2c",
   "metadata": {
    "execution": {
     "iopub.execute_input": "2023-06-23T09:16:15.232451Z",
     "iopub.status.busy": "2023-06-23T09:16:15.231297Z",
     "iopub.status.idle": "2023-06-23T09:16:15.422207Z",
     "shell.execute_reply": "2023-06-23T09:16:15.421150Z"
    },
    "papermill": {
     "duration": 0.209235,
     "end_time": "2023-06-23T09:16:15.424762",
     "exception": false,
     "start_time": "2023-06-23T09:16:15.215527",
     "status": "completed"
    },
    "tags": []
   },
   "outputs": [],
   "source": [
    "from sklearn.model_selection import train_test_split\n",
    "x_train,y_train,x_test,y_test=train_test_split(x,y,random_state=555)"
   ]
  },
  {
   "cell_type": "code",
   "execution_count": 24,
   "id": "711dbc7e",
   "metadata": {
    "execution": {
     "iopub.execute_input": "2023-06-23T09:16:15.455831Z",
     "iopub.status.busy": "2023-06-23T09:16:15.455470Z",
     "iopub.status.idle": "2023-06-23T09:16:15.492146Z",
     "shell.execute_reply": "2023-06-23T09:16:15.491225Z"
    },
    "papermill": {
     "duration": 0.055178,
     "end_time": "2023-06-23T09:16:15.494558",
     "exception": false,
     "start_time": "2023-06-23T09:16:15.439380",
     "status": "completed"
    },
    "tags": []
   },
   "outputs": [],
   "source": [
    "x_train=df.drop(columns='price')\n",
    "y_train=df['price']\n",
    "x_test=df.drop(columns='price')\n",
    "y_test=df['price']"
   ]
  },
  {
   "cell_type": "code",
   "execution_count": 25,
   "id": "a2ccf924",
   "metadata": {
    "execution": {
     "iopub.execute_input": "2023-06-23T09:16:15.526244Z",
     "iopub.status.busy": "2023-06-23T09:16:15.525589Z",
     "iopub.status.idle": "2023-06-23T09:16:15.895902Z",
     "shell.execute_reply": "2023-06-23T09:16:15.894844Z"
    },
    "papermill": {
     "duration": 0.389265,
     "end_time": "2023-06-23T09:16:15.898154",
     "exception": false,
     "start_time": "2023-06-23T09:16:15.508889",
     "status": "completed"
    },
    "tags": []
   },
   "outputs": [
    {
     "data": {
      "text/html": [
       "<style>#sk-container-id-1 {color: black;background-color: white;}#sk-container-id-1 pre{padding: 0;}#sk-container-id-1 div.sk-toggleable {background-color: white;}#sk-container-id-1 label.sk-toggleable__label {cursor: pointer;display: block;width: 100%;margin-bottom: 0;padding: 0.3em;box-sizing: border-box;text-align: center;}#sk-container-id-1 label.sk-toggleable__label-arrow:before {content: \"▸\";float: left;margin-right: 0.25em;color: #696969;}#sk-container-id-1 label.sk-toggleable__label-arrow:hover:before {color: black;}#sk-container-id-1 div.sk-estimator:hover label.sk-toggleable__label-arrow:before {color: black;}#sk-container-id-1 div.sk-toggleable__content {max-height: 0;max-width: 0;overflow: hidden;text-align: left;background-color: #f0f8ff;}#sk-container-id-1 div.sk-toggleable__content pre {margin: 0.2em;color: black;border-radius: 0.25em;background-color: #f0f8ff;}#sk-container-id-1 input.sk-toggleable__control:checked~div.sk-toggleable__content {max-height: 200px;max-width: 100%;overflow: auto;}#sk-container-id-1 input.sk-toggleable__control:checked~label.sk-toggleable__label-arrow:before {content: \"▾\";}#sk-container-id-1 div.sk-estimator input.sk-toggleable__control:checked~label.sk-toggleable__label {background-color: #d4ebff;}#sk-container-id-1 div.sk-label input.sk-toggleable__control:checked~label.sk-toggleable__label {background-color: #d4ebff;}#sk-container-id-1 input.sk-hidden--visually {border: 0;clip: rect(1px 1px 1px 1px);clip: rect(1px, 1px, 1px, 1px);height: 1px;margin: -1px;overflow: hidden;padding: 0;position: absolute;width: 1px;}#sk-container-id-1 div.sk-estimator {font-family: monospace;background-color: #f0f8ff;border: 1px dotted black;border-radius: 0.25em;box-sizing: border-box;margin-bottom: 0.5em;}#sk-container-id-1 div.sk-estimator:hover {background-color: #d4ebff;}#sk-container-id-1 div.sk-parallel-item::after {content: \"\";width: 100%;border-bottom: 1px solid gray;flex-grow: 1;}#sk-container-id-1 div.sk-label:hover label.sk-toggleable__label {background-color: #d4ebff;}#sk-container-id-1 div.sk-serial::before {content: \"\";position: absolute;border-left: 1px solid gray;box-sizing: border-box;top: 0;bottom: 0;left: 50%;z-index: 0;}#sk-container-id-1 div.sk-serial {display: flex;flex-direction: column;align-items: center;background-color: white;padding-right: 0.2em;padding-left: 0.2em;position: relative;}#sk-container-id-1 div.sk-item {position: relative;z-index: 1;}#sk-container-id-1 div.sk-parallel {display: flex;align-items: stretch;justify-content: center;background-color: white;position: relative;}#sk-container-id-1 div.sk-item::before, #sk-container-id-1 div.sk-parallel-item::before {content: \"\";position: absolute;border-left: 1px solid gray;box-sizing: border-box;top: 0;bottom: 0;left: 50%;z-index: -1;}#sk-container-id-1 div.sk-parallel-item {display: flex;flex-direction: column;z-index: 1;position: relative;background-color: white;}#sk-container-id-1 div.sk-parallel-item:first-child::after {align-self: flex-end;width: 50%;}#sk-container-id-1 div.sk-parallel-item:last-child::after {align-self: flex-start;width: 50%;}#sk-container-id-1 div.sk-parallel-item:only-child::after {width: 0;}#sk-container-id-1 div.sk-dashed-wrapped {border: 1px dashed gray;margin: 0 0.4em 0.5em 0.4em;box-sizing: border-box;padding-bottom: 0.4em;background-color: white;}#sk-container-id-1 div.sk-label label {font-family: monospace;font-weight: bold;display: inline-block;line-height: 1.2em;}#sk-container-id-1 div.sk-label-container {text-align: center;}#sk-container-id-1 div.sk-container {/* jupyter's `normalize.less` sets `[hidden] { display: none; }` but bootstrap.min.css set `[hidden] { display: none !important; }` so we also need the `!important` here to be able to override the default hidden behavior on the sphinx rendered scikit-learn.org. See: https://github.com/scikit-learn/scikit-learn/issues/21755 */display: inline-block !important;position: relative;}#sk-container-id-1 div.sk-text-repr-fallback {display: none;}</style><div id=\"sk-container-id-1\" class=\"sk-top-container\"><div class=\"sk-text-repr-fallback\"><pre>LinearRegression()</pre><b>In a Jupyter environment, please rerun this cell to show the HTML representation or trust the notebook. <br />On GitHub, the HTML representation is unable to render, please try loading this page with nbviewer.org.</b></div><div class=\"sk-container\" hidden><div class=\"sk-item\"><div class=\"sk-estimator sk-toggleable\"><input class=\"sk-toggleable__control sk-hidden--visually\" id=\"sk-estimator-id-1\" type=\"checkbox\" checked><label for=\"sk-estimator-id-1\" class=\"sk-toggleable__label sk-toggleable__label-arrow\">LinearRegression</label><div class=\"sk-toggleable__content\"><pre>LinearRegression()</pre></div></div></div></div></div>"
      ],
      "text/plain": [
       "LinearRegression()"
      ]
     },
     "execution_count": 25,
     "metadata": {},
     "output_type": "execute_result"
    }
   ],
   "source": [
    "from sklearn.linear_model import LinearRegression\n",
    "model=LinearRegression()\n",
    "model.fit(x_train,y_train)"
   ]
  },
  {
   "cell_type": "code",
   "execution_count": 26,
   "id": "b9612190",
   "metadata": {
    "execution": {
     "iopub.execute_input": "2023-06-23T09:16:15.931039Z",
     "iopub.status.busy": "2023-06-23T09:16:15.930314Z",
     "iopub.status.idle": "2023-06-23T09:16:15.977809Z",
     "shell.execute_reply": "2023-06-23T09:16:15.976072Z"
    },
    "papermill": {
     "duration": 0.068122,
     "end_time": "2023-06-23T09:16:15.981631",
     "exception": false,
     "start_time": "2023-06-23T09:16:15.913509",
     "status": "completed"
    },
    "tags": []
   },
   "outputs": [
    {
     "data": {
      "text/plain": [
       "array([ 5292.73173424,  5079.36331606,   799.64786444, ...,\n",
       "       51621.64178037, 50716.36292689, 50826.51902069])"
      ]
     },
     "execution_count": 26,
     "metadata": {},
     "output_type": "execute_result"
    }
   ],
   "source": [
    "y_pred=model.predict(x_test)\n",
    "y_pred"
   ]
  },
  {
   "cell_type": "code",
   "execution_count": 27,
   "id": "f7b24948",
   "metadata": {
    "execution": {
     "iopub.execute_input": "2023-06-23T09:16:16.034499Z",
     "iopub.status.busy": "2023-06-23T09:16:16.033974Z",
     "iopub.status.idle": "2023-06-23T09:16:16.053989Z",
     "shell.execute_reply": "2023-06-23T09:16:16.052739Z"
    },
    "papermill": {
     "duration": 0.050396,
     "end_time": "2023-06-23T09:16:16.057587",
     "exception": false,
     "start_time": "2023-06-23T09:16:16.007191",
     "status": "completed"
    },
    "tags": []
   },
   "outputs": [
    {
     "data": {
      "text/plain": [
       "0.9046221428892954"
      ]
     },
     "execution_count": 27,
     "metadata": {},
     "output_type": "execute_result"
    }
   ],
   "source": [
    "from sklearn.metrics import r2_score\n",
    "r2_score(y_test,y_pred)"
   ]
  },
  {
   "cell_type": "code",
   "execution_count": 28,
   "id": "e0cc075c",
   "metadata": {
    "_kg_hide-output": true,
    "execution": {
     "iopub.execute_input": "2023-06-23T09:16:16.102799Z",
     "iopub.status.busy": "2023-06-23T09:16:16.102452Z",
     "iopub.status.idle": "2023-06-23T09:16:45.807199Z",
     "shell.execute_reply": "2023-06-23T09:16:45.806116Z"
    },
    "papermill": {
     "duration": 29.72643,
     "end_time": "2023-06-23T09:16:45.809427",
     "exception": false,
     "start_time": "2023-06-23T09:16:16.082997",
     "status": "completed"
    },
    "tags": []
   },
   "outputs": [
    {
     "name": "stdout",
     "output_type": "stream",
     "text": [
      "Learning rate set to 0.100832\n",
      "0:\tlearn: 20564.6401436\ttotal: 94.1ms\tremaining: 1m 34s\n",
      "1:\tlearn: 18659.1403997\ttotal: 127ms\tremaining: 1m 3s\n",
      "2:\tlearn: 16954.8689219\ttotal: 156ms\tremaining: 51.9s\n",
      "3:\tlearn: 15441.4208979\ttotal: 184ms\tremaining: 45.9s\n",
      "4:\tlearn: 14101.0788028\ttotal: 211ms\tremaining: 42s\n",
      "5:\tlearn: 12899.9373285\ttotal: 238ms\tremaining: 39.5s\n",
      "6:\tlearn: 11843.6262976\ttotal: 264ms\tremaining: 37.5s\n",
      "7:\tlearn: 10907.9290374\ttotal: 294ms\tremaining: 36.4s\n",
      "8:\tlearn: 10083.1787115\ttotal: 322ms\tremaining: 35.5s\n",
      "9:\tlearn: 9364.4380923\ttotal: 349ms\tremaining: 34.6s\n",
      "10:\tlearn: 8735.5146034\ttotal: 380ms\tremaining: 34.1s\n",
      "11:\tlearn: 8188.7023892\ttotal: 408ms\tremaining: 33.6s\n",
      "12:\tlearn: 7703.1114426\ttotal: 435ms\tremaining: 33.1s\n",
      "13:\tlearn: 7287.6501304\ttotal: 463ms\tremaining: 32.6s\n",
      "14:\tlearn: 6933.7113514\ttotal: 490ms\tremaining: 32.2s\n",
      "15:\tlearn: 6630.2173147\ttotal: 517ms\tremaining: 31.8s\n",
      "16:\tlearn: 6366.9577242\ttotal: 545ms\tremaining: 31.5s\n",
      "17:\tlearn: 6139.4243488\ttotal: 569ms\tremaining: 31s\n",
      "18:\tlearn: 5948.7544421\ttotal: 596ms\tremaining: 30.8s\n",
      "19:\tlearn: 5787.7655872\ttotal: 620ms\tremaining: 30.4s\n",
      "20:\tlearn: 5639.8207264\ttotal: 648ms\tremaining: 30.2s\n",
      "21:\tlearn: 5520.2697654\ttotal: 673ms\tremaining: 29.9s\n",
      "22:\tlearn: 5421.0892653\ttotal: 699ms\tremaining: 29.7s\n",
      "23:\tlearn: 5327.4908447\ttotal: 725ms\tremaining: 29.5s\n",
      "24:\tlearn: 5249.0279199\ttotal: 753ms\tremaining: 29.4s\n",
      "25:\tlearn: 5185.3834710\ttotal: 776ms\tremaining: 29.1s\n",
      "26:\tlearn: 5131.9550306\ttotal: 804ms\tremaining: 29s\n",
      "27:\tlearn: 5075.5063185\ttotal: 831ms\tremaining: 28.8s\n",
      "28:\tlearn: 5032.5164698\ttotal: 858ms\tremaining: 28.7s\n",
      "29:\tlearn: 4998.2851648\ttotal: 884ms\tremaining: 28.6s\n",
      "30:\tlearn: 4966.2453572\ttotal: 910ms\tremaining: 28.4s\n",
      "31:\tlearn: 4933.2957846\ttotal: 937ms\tremaining: 28.4s\n",
      "32:\tlearn: 4894.9283651\ttotal: 964ms\tremaining: 28.3s\n",
      "33:\tlearn: 4858.6192093\ttotal: 989ms\tremaining: 28.1s\n",
      "34:\tlearn: 4831.2191148\ttotal: 1.01s\tremaining: 27.9s\n",
      "35:\tlearn: 4814.4613088\ttotal: 1.04s\tremaining: 27.8s\n",
      "36:\tlearn: 4793.5975831\ttotal: 1.06s\tremaining: 27.7s\n",
      "37:\tlearn: 4777.6488014\ttotal: 1.09s\tremaining: 27.7s\n",
      "38:\tlearn: 4761.8984279\ttotal: 1.12s\tremaining: 27.6s\n",
      "39:\tlearn: 4744.1788444\ttotal: 1.15s\tremaining: 27.5s\n",
      "40:\tlearn: 4719.1405151\ttotal: 1.18s\tremaining: 27.5s\n",
      "41:\tlearn: 4692.2618882\ttotal: 1.21s\tremaining: 27.5s\n",
      "42:\tlearn: 4682.0452837\ttotal: 1.23s\tremaining: 27.5s\n",
      "43:\tlearn: 4666.9868223\ttotal: 1.26s\tremaining: 27.5s\n",
      "44:\tlearn: 4659.2566149\ttotal: 1.29s\tremaining: 27.4s\n",
      "45:\tlearn: 4643.3015710\ttotal: 1.32s\tremaining: 27.3s\n",
      "46:\tlearn: 4631.4374710\ttotal: 1.35s\tremaining: 27.3s\n",
      "47:\tlearn: 4619.0130147\ttotal: 1.37s\tremaining: 27.2s\n",
      "48:\tlearn: 4612.6230690\ttotal: 1.4s\tremaining: 27.2s\n",
      "49:\tlearn: 4602.2949334\ttotal: 1.42s\tremaining: 27s\n",
      "50:\tlearn: 4588.3313270\ttotal: 1.45s\tremaining: 27s\n",
      "51:\tlearn: 4580.7401306\ttotal: 1.48s\tremaining: 26.9s\n",
      "52:\tlearn: 4570.9261052\ttotal: 1.5s\tremaining: 26.8s\n",
      "53:\tlearn: 4563.9831701\ttotal: 1.53s\tremaining: 26.7s\n",
      "54:\tlearn: 4556.0829856\ttotal: 1.55s\tremaining: 26.7s\n",
      "55:\tlearn: 4539.7460835\ttotal: 1.58s\tremaining: 26.6s\n",
      "56:\tlearn: 4533.5212976\ttotal: 1.6s\tremaining: 26.5s\n",
      "57:\tlearn: 4524.8341557\ttotal: 1.63s\tremaining: 26.4s\n",
      "58:\tlearn: 4519.7493694\ttotal: 1.65s\tremaining: 26.4s\n",
      "59:\tlearn: 4515.8068568\ttotal: 1.68s\tremaining: 26.3s\n",
      "60:\tlearn: 4508.0353473\ttotal: 1.71s\tremaining: 26.3s\n",
      "61:\tlearn: 4502.4193458\ttotal: 1.73s\tremaining: 26.2s\n",
      "62:\tlearn: 4495.3595845\ttotal: 1.75s\tremaining: 26.1s\n",
      "63:\tlearn: 4474.1629321\ttotal: 1.78s\tremaining: 26.1s\n",
      "64:\tlearn: 4467.8647029\ttotal: 1.81s\tremaining: 26s\n",
      "65:\tlearn: 4461.5082459\ttotal: 1.84s\tremaining: 26.1s\n",
      "66:\tlearn: 4454.0354447\ttotal: 1.87s\tremaining: 26s\n",
      "67:\tlearn: 4444.9982200\ttotal: 1.9s\tremaining: 26s\n",
      "68:\tlearn: 4432.9367804\ttotal: 1.93s\tremaining: 26s\n",
      "69:\tlearn: 4427.6965726\ttotal: 1.95s\tremaining: 25.9s\n",
      "70:\tlearn: 4417.6812527\ttotal: 1.98s\tremaining: 25.9s\n",
      "71:\tlearn: 4411.4703146\ttotal: 2s\tremaining: 25.8s\n",
      "72:\tlearn: 4401.3238694\ttotal: 2.03s\tremaining: 25.8s\n",
      "73:\tlearn: 4391.9709592\ttotal: 2.06s\tremaining: 25.8s\n",
      "74:\tlearn: 4381.2242032\ttotal: 2.09s\tremaining: 25.8s\n",
      "75:\tlearn: 4374.7327472\ttotal: 2.12s\tremaining: 25.8s\n",
      "76:\tlearn: 4368.7708088\ttotal: 2.15s\tremaining: 25.7s\n",
      "77:\tlearn: 4364.5767202\ttotal: 2.17s\tremaining: 25.7s\n",
      "78:\tlearn: 4356.5243713\ttotal: 2.2s\tremaining: 25.6s\n",
      "79:\tlearn: 4350.0193197\ttotal: 2.23s\tremaining: 25.6s\n",
      "80:\tlearn: 4338.8741685\ttotal: 2.26s\tremaining: 25.6s\n",
      "81:\tlearn: 4331.2749892\ttotal: 2.29s\tremaining: 25.7s\n",
      "82:\tlearn: 4323.6623477\ttotal: 2.32s\tremaining: 25.6s\n",
      "83:\tlearn: 4319.6105446\ttotal: 2.34s\tremaining: 25.6s\n",
      "84:\tlearn: 4314.2705408\ttotal: 2.37s\tremaining: 25.5s\n",
      "85:\tlearn: 4300.0874346\ttotal: 2.39s\tremaining: 25.4s\n",
      "86:\tlearn: 4294.3663069\ttotal: 2.42s\tremaining: 25.4s\n",
      "87:\tlearn: 4287.6480127\ttotal: 2.45s\tremaining: 25.4s\n",
      "88:\tlearn: 4284.6229375\ttotal: 2.48s\tremaining: 25.4s\n",
      "89:\tlearn: 4280.1143987\ttotal: 2.51s\tremaining: 25.4s\n",
      "90:\tlearn: 4272.9631647\ttotal: 2.54s\tremaining: 25.4s\n",
      "91:\tlearn: 4264.5803977\ttotal: 2.56s\tremaining: 25.3s\n",
      "92:\tlearn: 4260.0040676\ttotal: 2.59s\tremaining: 25.3s\n",
      "93:\tlearn: 4249.1688776\ttotal: 2.62s\tremaining: 25.2s\n",
      "94:\tlearn: 4242.0126839\ttotal: 2.65s\tremaining: 25.2s\n",
      "95:\tlearn: 4233.8451446\ttotal: 2.67s\tremaining: 25.2s\n",
      "96:\tlearn: 4225.8852790\ttotal: 2.7s\tremaining: 25.2s\n",
      "97:\tlearn: 4221.4408563\ttotal: 2.73s\tremaining: 25.1s\n",
      "98:\tlearn: 4217.8902146\ttotal: 2.76s\tremaining: 25.1s\n",
      "99:\tlearn: 4208.8291092\ttotal: 2.79s\tremaining: 25.1s\n",
      "100:\tlearn: 4206.9259406\ttotal: 2.81s\tremaining: 25s\n",
      "101:\tlearn: 4198.5617733\ttotal: 2.84s\tremaining: 25s\n",
      "102:\tlearn: 4192.7501316\ttotal: 2.87s\tremaining: 25s\n",
      "103:\tlearn: 4189.8893812\ttotal: 2.89s\tremaining: 24.9s\n",
      "104:\tlearn: 4181.7781734\ttotal: 2.92s\tremaining: 24.9s\n",
      "105:\tlearn: 4175.1274415\ttotal: 2.95s\tremaining: 24.9s\n",
      "106:\tlearn: 4169.3560114\ttotal: 2.98s\tremaining: 24.9s\n",
      "107:\tlearn: 4165.6383455\ttotal: 3.01s\tremaining: 24.8s\n",
      "108:\tlearn: 4163.3219342\ttotal: 3.04s\tremaining: 24.8s\n",
      "109:\tlearn: 4156.4531391\ttotal: 3.07s\tremaining: 24.8s\n",
      "110:\tlearn: 4151.8396584\ttotal: 3.09s\tremaining: 24.8s\n",
      "111:\tlearn: 4148.3259431\ttotal: 3.12s\tremaining: 24.7s\n",
      "112:\tlearn: 4142.6161870\ttotal: 3.15s\tremaining: 24.7s\n",
      "113:\tlearn: 4137.2354945\ttotal: 3.17s\tremaining: 24.7s\n",
      "114:\tlearn: 4130.8976596\ttotal: 3.2s\tremaining: 24.6s\n",
      "115:\tlearn: 4124.1442036\ttotal: 3.23s\tremaining: 24.6s\n",
      "116:\tlearn: 4118.4335903\ttotal: 3.25s\tremaining: 24.6s\n",
      "117:\tlearn: 4115.5051737\ttotal: 3.28s\tremaining: 24.5s\n",
      "118:\tlearn: 4112.0042723\ttotal: 3.31s\tremaining: 24.5s\n",
      "119:\tlearn: 4108.4053200\ttotal: 3.33s\tremaining: 24.5s\n",
      "120:\tlearn: 4103.7784133\ttotal: 3.36s\tremaining: 24.4s\n",
      "121:\tlearn: 4098.1321184\ttotal: 3.39s\tremaining: 24.4s\n",
      "122:\tlearn: 4092.8346982\ttotal: 3.42s\tremaining: 24.4s\n",
      "123:\tlearn: 4088.4026739\ttotal: 3.45s\tremaining: 24.4s\n",
      "124:\tlearn: 4084.9592356\ttotal: 3.48s\tremaining: 24.3s\n",
      "125:\tlearn: 4082.7532875\ttotal: 3.5s\tremaining: 24.3s\n",
      "126:\tlearn: 4078.7201196\ttotal: 3.53s\tremaining: 24.2s\n",
      "127:\tlearn: 4074.5300952\ttotal: 3.55s\tremaining: 24.2s\n",
      "128:\tlearn: 4068.0277063\ttotal: 3.58s\tremaining: 24.2s\n",
      "129:\tlearn: 4062.8174943\ttotal: 3.6s\tremaining: 24.1s\n",
      "130:\tlearn: 4057.5710452\ttotal: 3.63s\tremaining: 24.1s\n",
      "131:\tlearn: 4049.6096094\ttotal: 3.66s\tremaining: 24.1s\n",
      "132:\tlearn: 4044.8863716\ttotal: 3.69s\tremaining: 24.1s\n",
      "133:\tlearn: 4038.6321678\ttotal: 3.72s\tremaining: 24.1s\n",
      "134:\tlearn: 4034.8082517\ttotal: 3.75s\tremaining: 24s\n",
      "135:\tlearn: 4028.9186502\ttotal: 3.78s\tremaining: 24s\n",
      "136:\tlearn: 4024.7939303\ttotal: 3.8s\tremaining: 24s\n",
      "137:\tlearn: 4019.9469258\ttotal: 3.84s\tremaining: 24s\n",
      "138:\tlearn: 4017.0034387\ttotal: 3.86s\tremaining: 23.9s\n",
      "139:\tlearn: 4012.7652554\ttotal: 3.89s\tremaining: 23.9s\n",
      "140:\tlearn: 4008.5597101\ttotal: 3.91s\tremaining: 23.8s\n",
      "141:\tlearn: 4002.1653798\ttotal: 3.94s\tremaining: 23.8s\n",
      "142:\tlearn: 3993.6578148\ttotal: 3.96s\tremaining: 23.8s\n",
      "143:\tlearn: 3990.8798984\ttotal: 3.99s\tremaining: 23.7s\n",
      "144:\tlearn: 3986.2619744\ttotal: 4.02s\tremaining: 23.7s\n",
      "145:\tlearn: 3981.9196354\ttotal: 4.05s\tremaining: 23.7s\n",
      "146:\tlearn: 3979.5541251\ttotal: 4.08s\tremaining: 23.7s\n",
      "147:\tlearn: 3977.1073190\ttotal: 4.1s\tremaining: 23.6s\n",
      "148:\tlearn: 3970.1677812\ttotal: 4.13s\tremaining: 23.6s\n",
      "149:\tlearn: 3966.1266416\ttotal: 4.17s\tremaining: 23.6s\n",
      "150:\tlearn: 3963.7154039\ttotal: 4.19s\tremaining: 23.6s\n",
      "151:\tlearn: 3959.8246862\ttotal: 4.21s\tremaining: 23.5s\n",
      "152:\tlearn: 3953.6429908\ttotal: 4.24s\tremaining: 23.5s\n",
      "153:\tlearn: 3948.9089347\ttotal: 4.28s\tremaining: 23.5s\n",
      "154:\tlearn: 3946.7892956\ttotal: 4.31s\tremaining: 23.5s\n",
      "155:\tlearn: 3944.1065123\ttotal: 4.35s\tremaining: 23.6s\n",
      "156:\tlearn: 3941.5644057\ttotal: 4.39s\tremaining: 23.6s\n",
      "157:\tlearn: 3938.9577604\ttotal: 4.42s\tremaining: 23.5s\n",
      "158:\tlearn: 3935.4188114\ttotal: 4.44s\tremaining: 23.5s\n",
      "159:\tlearn: 3929.8512431\ttotal: 4.47s\tremaining: 23.5s\n",
      "160:\tlearn: 3926.4034787\ttotal: 4.5s\tremaining: 23.4s\n",
      "161:\tlearn: 3922.8051110\ttotal: 4.53s\tremaining: 23.4s\n",
      "162:\tlearn: 3918.3608636\ttotal: 4.55s\tremaining: 23.4s\n",
      "163:\tlearn: 3912.1946791\ttotal: 4.58s\tremaining: 23.3s\n",
      "164:\tlearn: 3908.2803731\ttotal: 4.61s\tremaining: 23.3s\n",
      "165:\tlearn: 3904.5078412\ttotal: 4.64s\tremaining: 23.3s\n",
      "166:\tlearn: 3900.5279617\ttotal: 4.67s\tremaining: 23.3s\n",
      "167:\tlearn: 3896.4088399\ttotal: 4.7s\tremaining: 23.3s\n",
      "168:\tlearn: 3894.9648126\ttotal: 4.73s\tremaining: 23.3s\n",
      "169:\tlearn: 3891.8482997\ttotal: 4.76s\tremaining: 23.2s\n",
      "170:\tlearn: 3889.6483748\ttotal: 4.78s\tremaining: 23.2s\n",
      "171:\tlearn: 3888.7913468\ttotal: 4.81s\tremaining: 23.1s\n",
      "172:\tlearn: 3883.5935864\ttotal: 4.83s\tremaining: 23.1s\n",
      "173:\tlearn: 3880.7895917\ttotal: 4.86s\tremaining: 23.1s\n",
      "174:\tlearn: 3878.6338008\ttotal: 4.88s\tremaining: 23s\n",
      "175:\tlearn: 3874.5522369\ttotal: 4.92s\tremaining: 23s\n",
      "176:\tlearn: 3872.6086615\ttotal: 4.94s\tremaining: 23s\n",
      "177:\tlearn: 3870.4436546\ttotal: 4.97s\tremaining: 22.9s\n",
      "178:\tlearn: 3868.1244310\ttotal: 5s\tremaining: 22.9s\n",
      "179:\tlearn: 3866.4949457\ttotal: 5.02s\tremaining: 22.9s\n",
      "180:\tlearn: 3863.9110161\ttotal: 5.05s\tremaining: 22.8s\n",
      "181:\tlearn: 3859.3068192\ttotal: 5.08s\tremaining: 22.8s\n",
      "182:\tlearn: 3857.0453545\ttotal: 5.1s\tremaining: 22.8s\n",
      "183:\tlearn: 3854.6218936\ttotal: 5.13s\tremaining: 22.8s\n",
      "184:\tlearn: 3852.3302001\ttotal: 5.16s\tremaining: 22.7s\n",
      "185:\tlearn: 3845.8372501\ttotal: 5.19s\tremaining: 22.7s\n",
      "186:\tlearn: 3844.7681348\ttotal: 5.21s\tremaining: 22.7s\n",
      "187:\tlearn: 3841.7104156\ttotal: 5.24s\tremaining: 22.6s\n",
      "188:\tlearn: 3838.6911290\ttotal: 5.27s\tremaining: 22.6s\n",
      "189:\tlearn: 3835.8162121\ttotal: 5.3s\tremaining: 22.6s\n",
      "190:\tlearn: 3834.0589127\ttotal: 5.32s\tremaining: 22.5s\n",
      "191:\tlearn: 3830.1286689\ttotal: 5.35s\tremaining: 22.5s\n",
      "192:\tlearn: 3829.2060201\ttotal: 5.38s\tremaining: 22.5s\n",
      "193:\tlearn: 3825.6346550\ttotal: 5.41s\tremaining: 22.5s\n",
      "194:\tlearn: 3824.0425746\ttotal: 5.43s\tremaining: 22.4s\n",
      "195:\tlearn: 3820.9401696\ttotal: 5.47s\tremaining: 22.4s\n",
      "196:\tlearn: 3818.4011377\ttotal: 5.5s\tremaining: 22.4s\n",
      "197:\tlearn: 3813.3677987\ttotal: 5.52s\tremaining: 22.4s\n",
      "198:\tlearn: 3811.5377965\ttotal: 5.55s\tremaining: 22.3s\n",
      "199:\tlearn: 3808.9858689\ttotal: 5.58s\tremaining: 22.3s\n",
      "200:\tlearn: 3806.4827137\ttotal: 5.6s\tremaining: 22.3s\n",
      "201:\tlearn: 3805.3590372\ttotal: 5.63s\tremaining: 22.2s\n",
      "202:\tlearn: 3803.7328254\ttotal: 5.65s\tremaining: 22.2s\n",
      "203:\tlearn: 3802.1987548\ttotal: 5.68s\tremaining: 22.2s\n",
      "204:\tlearn: 3800.5421894\ttotal: 5.7s\tremaining: 22.1s\n",
      "205:\tlearn: 3798.5093091\ttotal: 5.73s\tremaining: 22.1s\n",
      "206:\tlearn: 3797.3695147\ttotal: 5.76s\tremaining: 22.1s\n",
      "207:\tlearn: 3796.2489742\ttotal: 5.78s\tremaining: 22s\n",
      "208:\tlearn: 3794.1473278\ttotal: 5.81s\tremaining: 22s\n",
      "209:\tlearn: 3792.1352541\ttotal: 5.84s\tremaining: 22s\n",
      "210:\tlearn: 3789.3101427\ttotal: 5.87s\tremaining: 21.9s\n",
      "211:\tlearn: 3787.9267906\ttotal: 5.89s\tremaining: 21.9s\n",
      "212:\tlearn: 3785.0670366\ttotal: 5.91s\tremaining: 21.9s\n",
      "213:\tlearn: 3782.2878929\ttotal: 5.94s\tremaining: 21.8s\n",
      "214:\tlearn: 3777.3455367\ttotal: 5.97s\tremaining: 21.8s\n",
      "215:\tlearn: 3775.3507688\ttotal: 6s\tremaining: 21.8s\n",
      "216:\tlearn: 3772.6265881\ttotal: 6.02s\tremaining: 21.7s\n",
      "217:\tlearn: 3771.1395179\ttotal: 6.05s\tremaining: 21.7s\n",
      "218:\tlearn: 3769.6180417\ttotal: 6.08s\tremaining: 21.7s\n",
      "219:\tlearn: 3767.1844400\ttotal: 6.11s\tremaining: 21.7s\n",
      "220:\tlearn: 3765.7943873\ttotal: 6.14s\tremaining: 21.6s\n",
      "221:\tlearn: 3764.3758087\ttotal: 6.16s\tremaining: 21.6s\n",
      "222:\tlearn: 3763.1650491\ttotal: 6.19s\tremaining: 21.6s\n",
      "223:\tlearn: 3752.2136290\ttotal: 6.22s\tremaining: 21.6s\n",
      "224:\tlearn: 3749.9308282\ttotal: 6.25s\tremaining: 21.5s\n",
      "225:\tlearn: 3748.5347031\ttotal: 6.28s\tremaining: 21.5s\n",
      "226:\tlearn: 3745.6415492\ttotal: 6.31s\tremaining: 21.5s\n",
      "227:\tlearn: 3741.9761667\ttotal: 6.34s\tremaining: 21.5s\n",
      "228:\tlearn: 3733.0683608\ttotal: 6.37s\tremaining: 21.4s\n",
      "229:\tlearn: 3732.0988551\ttotal: 6.39s\tremaining: 21.4s\n",
      "230:\tlearn: 3724.9209971\ttotal: 6.42s\tremaining: 21.4s\n",
      "231:\tlearn: 3723.5584626\ttotal: 6.46s\tremaining: 21.4s\n",
      "232:\tlearn: 3721.9735050\ttotal: 6.49s\tremaining: 21.4s\n",
      "233:\tlearn: 3721.2192601\ttotal: 6.51s\tremaining: 21.3s\n",
      "234:\tlearn: 3718.7984500\ttotal: 6.54s\tremaining: 21.3s\n",
      "235:\tlearn: 3717.6917230\ttotal: 6.57s\tremaining: 21.3s\n",
      "236:\tlearn: 3715.7958766\ttotal: 6.6s\tremaining: 21.2s\n",
      "237:\tlearn: 3709.8966788\ttotal: 6.63s\tremaining: 21.2s\n",
      "238:\tlearn: 3708.0168922\ttotal: 6.66s\tremaining: 21.2s\n",
      "239:\tlearn: 3703.3441616\ttotal: 6.69s\tremaining: 21.2s\n",
      "240:\tlearn: 3700.8792506\ttotal: 6.72s\tremaining: 21.2s\n",
      "241:\tlearn: 3695.8965229\ttotal: 6.75s\tremaining: 21.1s\n",
      "242:\tlearn: 3692.5206094\ttotal: 6.78s\tremaining: 21.1s\n",
      "243:\tlearn: 3690.2708639\ttotal: 6.81s\tremaining: 21.1s\n",
      "244:\tlearn: 3689.3141383\ttotal: 6.83s\tremaining: 21.1s\n",
      "245:\tlearn: 3687.1821400\ttotal: 6.86s\tremaining: 21s\n",
      "246:\tlearn: 3685.3566593\ttotal: 6.89s\tremaining: 21s\n",
      "247:\tlearn: 3683.6833535\ttotal: 6.92s\tremaining: 21s\n",
      "248:\tlearn: 3681.4206432\ttotal: 6.95s\tremaining: 20.9s\n",
      "249:\tlearn: 3680.4001570\ttotal: 6.97s\tremaining: 20.9s\n",
      "250:\tlearn: 3676.8890499\ttotal: 7s\tremaining: 20.9s\n",
      "251:\tlearn: 3675.7264600\ttotal: 7.03s\tremaining: 20.9s\n",
      "252:\tlearn: 3674.8518787\ttotal: 7.05s\tremaining: 20.8s\n",
      "253:\tlearn: 3673.0509191\ttotal: 7.08s\tremaining: 20.8s\n",
      "254:\tlearn: 3672.0265470\ttotal: 7.1s\tremaining: 20.8s\n",
      "255:\tlearn: 3669.5562314\ttotal: 7.14s\tremaining: 20.7s\n",
      "256:\tlearn: 3666.3702538\ttotal: 7.17s\tremaining: 20.7s\n",
      "257:\tlearn: 3664.4125224\ttotal: 7.19s\tremaining: 20.7s\n",
      "258:\tlearn: 3661.0980337\ttotal: 7.22s\tremaining: 20.7s\n",
      "259:\tlearn: 3660.2995644\ttotal: 7.25s\tremaining: 20.6s\n",
      "260:\tlearn: 3657.5293632\ttotal: 7.28s\tremaining: 20.6s\n",
      "261:\tlearn: 3655.3146489\ttotal: 7.31s\tremaining: 20.6s\n",
      "262:\tlearn: 3654.3891095\ttotal: 7.33s\tremaining: 20.6s\n",
      "263:\tlearn: 3652.7164604\ttotal: 7.36s\tremaining: 20.5s\n",
      "264:\tlearn: 3648.4323580\ttotal: 7.39s\tremaining: 20.5s\n",
      "265:\tlearn: 3646.5802719\ttotal: 7.42s\tremaining: 20.5s\n",
      "266:\tlearn: 3644.3937802\ttotal: 7.45s\tremaining: 20.4s\n",
      "267:\tlearn: 3642.6192792\ttotal: 7.48s\tremaining: 20.4s\n",
      "268:\tlearn: 3641.3258219\ttotal: 7.51s\tremaining: 20.4s\n",
      "269:\tlearn: 3639.0334632\ttotal: 7.53s\tremaining: 20.4s\n",
      "270:\tlearn: 3636.6706946\ttotal: 7.57s\tremaining: 20.4s\n",
      "271:\tlearn: 3635.0193830\ttotal: 7.59s\tremaining: 20.3s\n",
      "272:\tlearn: 3633.6491515\ttotal: 7.62s\tremaining: 20.3s\n",
      "273:\tlearn: 3631.4485382\ttotal: 7.65s\tremaining: 20.3s\n",
      "274:\tlearn: 3630.5192948\ttotal: 7.67s\tremaining: 20.2s\n",
      "275:\tlearn: 3628.3643923\ttotal: 7.7s\tremaining: 20.2s\n",
      "276:\tlearn: 3627.5980021\ttotal: 7.72s\tremaining: 20.2s\n",
      "277:\tlearn: 3626.9537600\ttotal: 7.75s\tremaining: 20.1s\n",
      "278:\tlearn: 3626.1734808\ttotal: 7.77s\tremaining: 20.1s\n",
      "279:\tlearn: 3624.7189500\ttotal: 7.8s\tremaining: 20.1s\n",
      "280:\tlearn: 3623.7331094\ttotal: 7.83s\tremaining: 20s\n",
      "281:\tlearn: 3621.7593620\ttotal: 7.87s\tremaining: 20s\n",
      "282:\tlearn: 3619.4909907\ttotal: 7.89s\tremaining: 20s\n",
      "283:\tlearn: 3617.4463727\ttotal: 7.92s\tremaining: 20s\n",
      "284:\tlearn: 3614.6851614\ttotal: 7.95s\tremaining: 20s\n",
      "285:\tlearn: 3613.1905229\ttotal: 7.98s\tremaining: 19.9s\n",
      "286:\tlearn: 3612.5052669\ttotal: 8.01s\tremaining: 19.9s\n",
      "287:\tlearn: 3611.4679209\ttotal: 8.04s\tremaining: 19.9s\n",
      "288:\tlearn: 3609.7906267\ttotal: 8.06s\tremaining: 19.8s\n",
      "289:\tlearn: 3609.1038723\ttotal: 8.09s\tremaining: 19.8s\n",
      "290:\tlearn: 3608.4063918\ttotal: 8.11s\tremaining: 19.8s\n",
      "291:\tlearn: 3607.2000154\ttotal: 8.13s\tremaining: 19.7s\n",
      "292:\tlearn: 3606.4552006\ttotal: 8.16s\tremaining: 19.7s\n",
      "293:\tlearn: 3605.6749344\ttotal: 8.19s\tremaining: 19.7s\n",
      "294:\tlearn: 3600.4701891\ttotal: 8.22s\tremaining: 19.6s\n",
      "295:\tlearn: 3598.7325020\ttotal: 8.25s\tremaining: 19.6s\n",
      "296:\tlearn: 3597.0771735\ttotal: 8.28s\tremaining: 19.6s\n",
      "297:\tlearn: 3594.6161373\ttotal: 8.31s\tremaining: 19.6s\n",
      "298:\tlearn: 3593.5143528\ttotal: 8.34s\tremaining: 19.5s\n",
      "299:\tlearn: 3592.8102317\ttotal: 8.36s\tremaining: 19.5s\n",
      "300:\tlearn: 3591.3315166\ttotal: 8.39s\tremaining: 19.5s\n",
      "301:\tlearn: 3588.2832723\ttotal: 8.42s\tremaining: 19.5s\n",
      "302:\tlearn: 3587.1835569\ttotal: 8.44s\tremaining: 19.4s\n",
      "303:\tlearn: 3585.8168636\ttotal: 8.47s\tremaining: 19.4s\n",
      "304:\tlearn: 3582.6624333\ttotal: 8.5s\tremaining: 19.4s\n",
      "305:\tlearn: 3581.3385187\ttotal: 8.53s\tremaining: 19.3s\n",
      "306:\tlearn: 3580.0453728\ttotal: 8.56s\tremaining: 19.3s\n",
      "307:\tlearn: 3578.3750224\ttotal: 8.59s\tremaining: 19.3s\n",
      "308:\tlearn: 3576.0821818\ttotal: 8.62s\tremaining: 19.3s\n",
      "309:\tlearn: 3574.5374333\ttotal: 8.65s\tremaining: 19.2s\n",
      "310:\tlearn: 3573.6899988\ttotal: 8.67s\tremaining: 19.2s\n",
      "311:\tlearn: 3568.7218838\ttotal: 8.71s\tremaining: 19.2s\n",
      "312:\tlearn: 3565.6888675\ttotal: 8.74s\tremaining: 19.2s\n",
      "313:\tlearn: 3563.5388652\ttotal: 8.76s\tremaining: 19.1s\n",
      "314:\tlearn: 3562.0134167\ttotal: 8.79s\tremaining: 19.1s\n",
      "315:\tlearn: 3559.0819077\ttotal: 8.83s\tremaining: 19.1s\n",
      "316:\tlearn: 3557.4337785\ttotal: 8.86s\tremaining: 19.1s\n",
      "317:\tlearn: 3554.9370460\ttotal: 8.89s\tremaining: 19.1s\n",
      "318:\tlearn: 3553.0883862\ttotal: 8.92s\tremaining: 19s\n",
      "319:\tlearn: 3551.8265470\ttotal: 8.95s\tremaining: 19s\n",
      "320:\tlearn: 3551.2364513\ttotal: 8.97s\tremaining: 19s\n",
      "321:\tlearn: 3549.4043329\ttotal: 9s\tremaining: 19s\n",
      "322:\tlearn: 3546.9987533\ttotal: 9.03s\tremaining: 18.9s\n",
      "323:\tlearn: 3545.5525903\ttotal: 9.06s\tremaining: 18.9s\n",
      "324:\tlearn: 3542.9233564\ttotal: 9.09s\tremaining: 18.9s\n",
      "325:\tlearn: 3541.0906793\ttotal: 9.12s\tremaining: 18.8s\n",
      "326:\tlearn: 3536.6197655\ttotal: 9.15s\tremaining: 18.8s\n",
      "327:\tlearn: 3535.8509105\ttotal: 9.18s\tremaining: 18.8s\n",
      "328:\tlearn: 3534.4540172\ttotal: 9.2s\tremaining: 18.8s\n",
      "329:\tlearn: 3532.9017060\ttotal: 9.23s\tremaining: 18.7s\n",
      "330:\tlearn: 3532.1425019\ttotal: 9.26s\tremaining: 18.7s\n",
      "331:\tlearn: 3531.7222451\ttotal: 9.28s\tremaining: 18.7s\n",
      "332:\tlearn: 3530.4550692\ttotal: 9.31s\tremaining: 18.7s\n",
      "333:\tlearn: 3529.1017279\ttotal: 9.34s\tremaining: 18.6s\n",
      "334:\tlearn: 3527.5145078\ttotal: 9.37s\tremaining: 18.6s\n",
      "335:\tlearn: 3526.9612147\ttotal: 9.39s\tremaining: 18.6s\n",
      "336:\tlearn: 3526.4673657\ttotal: 9.41s\tremaining: 18.5s\n",
      "337:\tlearn: 3524.9791797\ttotal: 9.45s\tremaining: 18.5s\n",
      "338:\tlearn: 3523.4439905\ttotal: 9.48s\tremaining: 18.5s\n",
      "339:\tlearn: 3521.7272894\ttotal: 9.5s\tremaining: 18.4s\n",
      "340:\tlearn: 3520.3953781\ttotal: 9.53s\tremaining: 18.4s\n",
      "341:\tlearn: 3519.0733312\ttotal: 9.56s\tremaining: 18.4s\n",
      "342:\tlearn: 3518.4835401\ttotal: 9.58s\tremaining: 18.4s\n",
      "343:\tlearn: 3517.8109080\ttotal: 9.61s\tremaining: 18.3s\n",
      "344:\tlearn: 3517.1987938\ttotal: 9.64s\tremaining: 18.3s\n",
      "345:\tlearn: 3516.7453432\ttotal: 9.66s\tremaining: 18.3s\n",
      "346:\tlearn: 3515.9131155\ttotal: 9.69s\tremaining: 18.2s\n",
      "347:\tlearn: 3515.1464652\ttotal: 9.72s\tremaining: 18.2s\n",
      "348:\tlearn: 3513.4776091\ttotal: 9.75s\tremaining: 18.2s\n",
      "349:\tlearn: 3512.1481127\ttotal: 9.77s\tremaining: 18.1s\n",
      "350:\tlearn: 3509.7069921\ttotal: 9.8s\tremaining: 18.1s\n",
      "351:\tlearn: 3507.6579071\ttotal: 9.83s\tremaining: 18.1s\n",
      "352:\tlearn: 3505.9480390\ttotal: 9.86s\tremaining: 18.1s\n",
      "353:\tlearn: 3504.3507387\ttotal: 9.89s\tremaining: 18.1s\n",
      "354:\tlearn: 3503.0121405\ttotal: 9.92s\tremaining: 18s\n",
      "355:\tlearn: 3502.2145750\ttotal: 9.95s\tremaining: 18s\n",
      "356:\tlearn: 3501.8573653\ttotal: 9.97s\tremaining: 18s\n",
      "357:\tlearn: 3500.4003716\ttotal: 10s\tremaining: 17.9s\n",
      "358:\tlearn: 3498.4874945\ttotal: 10s\tremaining: 17.9s\n",
      "359:\tlearn: 3496.5603645\ttotal: 10.1s\tremaining: 17.9s\n",
      "360:\tlearn: 3495.8357057\ttotal: 10.1s\tremaining: 17.8s\n",
      "361:\tlearn: 3494.3259890\ttotal: 10.1s\tremaining: 17.8s\n",
      "362:\tlearn: 3493.6999473\ttotal: 10.1s\tremaining: 17.8s\n",
      "363:\tlearn: 3492.7065513\ttotal: 10.2s\tremaining: 17.8s\n",
      "364:\tlearn: 3491.2447772\ttotal: 10.2s\tremaining: 17.7s\n",
      "365:\tlearn: 3489.6965519\ttotal: 10.2s\tremaining: 17.7s\n",
      "366:\tlearn: 3488.0249748\ttotal: 10.3s\tremaining: 17.7s\n",
      "367:\tlearn: 3487.4684236\ttotal: 10.3s\tremaining: 17.7s\n",
      "368:\tlearn: 3485.4443626\ttotal: 10.3s\tremaining: 17.6s\n",
      "369:\tlearn: 3484.7529495\ttotal: 10.3s\tremaining: 17.6s\n",
      "370:\tlearn: 3483.2239729\ttotal: 10.4s\tremaining: 17.6s\n",
      "371:\tlearn: 3481.1897501\ttotal: 10.4s\tremaining: 17.6s\n",
      "372:\tlearn: 3480.6474373\ttotal: 10.4s\tremaining: 17.5s\n",
      "373:\tlearn: 3479.8137144\ttotal: 10.4s\tremaining: 17.5s\n",
      "374:\tlearn: 3477.7924318\ttotal: 10.5s\tremaining: 17.5s\n",
      "375:\tlearn: 3474.1980936\ttotal: 10.5s\tremaining: 17.4s\n",
      "376:\tlearn: 3473.0461090\ttotal: 10.5s\tremaining: 17.4s\n",
      "377:\tlearn: 3472.4752768\ttotal: 10.6s\tremaining: 17.4s\n",
      "378:\tlearn: 3470.8639798\ttotal: 10.6s\tremaining: 17.4s\n",
      "379:\tlearn: 3469.8786162\ttotal: 10.6s\tremaining: 17.3s\n",
      "380:\tlearn: 3468.8603710\ttotal: 10.6s\tremaining: 17.3s\n",
      "381:\tlearn: 3467.6910480\ttotal: 10.7s\tremaining: 17.3s\n",
      "382:\tlearn: 3465.8832112\ttotal: 10.7s\tremaining: 17.2s\n",
      "383:\tlearn: 3464.6077441\ttotal: 10.7s\tremaining: 17.2s\n",
      "384:\tlearn: 3463.7836958\ttotal: 10.8s\tremaining: 17.2s\n",
      "385:\tlearn: 3462.7252305\ttotal: 10.8s\tremaining: 17.2s\n",
      "386:\tlearn: 3461.1041820\ttotal: 10.8s\tremaining: 17.1s\n",
      "387:\tlearn: 3460.0211320\ttotal: 10.8s\tremaining: 17.1s\n",
      "388:\tlearn: 3457.1677590\ttotal: 10.9s\tremaining: 17.1s\n",
      "389:\tlearn: 3456.3205396\ttotal: 10.9s\tremaining: 17s\n",
      "390:\tlearn: 3454.2050145\ttotal: 10.9s\tremaining: 17s\n",
      "391:\tlearn: 3452.7656578\ttotal: 11s\tremaining: 17s\n",
      "392:\tlearn: 3451.1759431\ttotal: 11s\tremaining: 17s\n",
      "393:\tlearn: 3449.8796370\ttotal: 11s\tremaining: 16.9s\n",
      "394:\tlearn: 3449.2082972\ttotal: 11s\tremaining: 16.9s\n",
      "395:\tlearn: 3448.7861665\ttotal: 11.1s\tremaining: 16.9s\n",
      "396:\tlearn: 3447.1388670\ttotal: 11.1s\tremaining: 16.8s\n",
      "397:\tlearn: 3445.8772061\ttotal: 11.1s\tremaining: 16.8s\n",
      "398:\tlearn: 3445.5304445\ttotal: 11.1s\tremaining: 16.8s\n",
      "399:\tlearn: 3444.3516629\ttotal: 11.2s\tremaining: 16.8s\n",
      "400:\tlearn: 3442.8016483\ttotal: 11.2s\tremaining: 16.7s\n",
      "401:\tlearn: 3441.8768274\ttotal: 11.2s\tremaining: 16.7s\n",
      "402:\tlearn: 3440.5092978\ttotal: 11.3s\tremaining: 16.7s\n",
      "403:\tlearn: 3439.3638651\ttotal: 11.3s\tremaining: 16.6s\n",
      "404:\tlearn: 3438.6350505\ttotal: 11.3s\tremaining: 16.6s\n",
      "405:\tlearn: 3437.4144274\ttotal: 11.3s\tremaining: 16.6s\n",
      "406:\tlearn: 3434.2805588\ttotal: 11.4s\tremaining: 16.6s\n",
      "407:\tlearn: 3433.7631682\ttotal: 11.4s\tremaining: 16.5s\n",
      "408:\tlearn: 3432.9439479\ttotal: 11.4s\tremaining: 16.5s\n",
      "409:\tlearn: 3431.8840078\ttotal: 11.4s\tremaining: 16.5s\n",
      "410:\tlearn: 3430.6945046\ttotal: 11.5s\tremaining: 16.4s\n",
      "411:\tlearn: 3428.0798861\ttotal: 11.5s\tremaining: 16.4s\n",
      "412:\tlearn: 3426.7845320\ttotal: 11.5s\tremaining: 16.4s\n",
      "413:\tlearn: 3425.6569173\ttotal: 11.6s\tremaining: 16.4s\n",
      "414:\tlearn: 3424.5925629\ttotal: 11.6s\tremaining: 16.3s\n",
      "415:\tlearn: 3423.4551548\ttotal: 11.6s\tremaining: 16.3s\n",
      "416:\tlearn: 3422.3291210\ttotal: 11.6s\tremaining: 16.3s\n",
      "417:\tlearn: 3420.8032108\ttotal: 11.7s\tremaining: 16.2s\n",
      "418:\tlearn: 3419.8337104\ttotal: 11.7s\tremaining: 16.2s\n",
      "419:\tlearn: 3419.0101616\ttotal: 11.7s\tremaining: 16.2s\n",
      "420:\tlearn: 3418.4893777\ttotal: 11.8s\tremaining: 16.2s\n",
      "421:\tlearn: 3415.6080130\ttotal: 11.8s\tremaining: 16.1s\n",
      "422:\tlearn: 3415.1123604\ttotal: 11.8s\tremaining: 16.1s\n",
      "423:\tlearn: 3413.7226083\ttotal: 11.8s\tremaining: 16.1s\n",
      "424:\tlearn: 3412.4705361\ttotal: 11.9s\tremaining: 16.1s\n",
      "425:\tlearn: 3411.2604091\ttotal: 11.9s\tremaining: 16s\n",
      "426:\tlearn: 3410.4172523\ttotal: 11.9s\tremaining: 16s\n",
      "427:\tlearn: 3409.6022472\ttotal: 11.9s\tremaining: 16s\n",
      "428:\tlearn: 3408.6435848\ttotal: 12s\tremaining: 15.9s\n",
      "429:\tlearn: 3407.4877773\ttotal: 12s\tremaining: 15.9s\n",
      "430:\tlearn: 3405.4901553\ttotal: 12s\tremaining: 15.9s\n",
      "431:\tlearn: 3404.1897380\ttotal: 12.1s\tremaining: 15.9s\n",
      "432:\tlearn: 3403.4705902\ttotal: 12.1s\tremaining: 15.8s\n",
      "433:\tlearn: 3401.5580367\ttotal: 12.1s\tremaining: 15.8s\n",
      "434:\tlearn: 3400.4839052\ttotal: 12.1s\tremaining: 15.8s\n",
      "435:\tlearn: 3399.2630441\ttotal: 12.2s\tremaining: 15.7s\n",
      "436:\tlearn: 3398.6374640\ttotal: 12.2s\tremaining: 15.7s\n",
      "437:\tlearn: 3397.3192852\ttotal: 12.2s\tremaining: 15.7s\n",
      "438:\tlearn: 3396.7929557\ttotal: 12.3s\tremaining: 15.7s\n",
      "439:\tlearn: 3395.9122889\ttotal: 12.3s\tremaining: 15.6s\n",
      "440:\tlearn: 3395.0039241\ttotal: 12.3s\tremaining: 15.6s\n",
      "441:\tlearn: 3393.9882730\ttotal: 12.3s\tremaining: 15.6s\n",
      "442:\tlearn: 3392.9290022\ttotal: 12.4s\tremaining: 15.6s\n",
      "443:\tlearn: 3392.1896825\ttotal: 12.4s\tremaining: 15.5s\n",
      "444:\tlearn: 3391.5972137\ttotal: 12.4s\tremaining: 15.5s\n",
      "445:\tlearn: 3390.6688353\ttotal: 12.5s\tremaining: 15.5s\n",
      "446:\tlearn: 3390.1120571\ttotal: 12.5s\tremaining: 15.4s\n",
      "447:\tlearn: 3388.9533922\ttotal: 12.5s\tremaining: 15.4s\n",
      "448:\tlearn: 3388.0270219\ttotal: 12.5s\tremaining: 15.4s\n",
      "449:\tlearn: 3387.1923645\ttotal: 12.6s\tremaining: 15.4s\n",
      "450:\tlearn: 3386.4986952\ttotal: 12.6s\tremaining: 15.3s\n",
      "451:\tlearn: 3385.7241419\ttotal: 12.6s\tremaining: 15.3s\n",
      "452:\tlearn: 3382.4518952\ttotal: 12.6s\tremaining: 15.3s\n",
      "453:\tlearn: 3380.1455244\ttotal: 12.7s\tremaining: 15.3s\n",
      "454:\tlearn: 3379.3829065\ttotal: 12.7s\tremaining: 15.2s\n",
      "455:\tlearn: 3378.5519250\ttotal: 12.7s\tremaining: 15.2s\n",
      "456:\tlearn: 3377.8781446\ttotal: 12.8s\tremaining: 15.2s\n",
      "457:\tlearn: 3377.3450450\ttotal: 12.8s\tremaining: 15.1s\n",
      "458:\tlearn: 3376.5834577\ttotal: 12.8s\tremaining: 15.1s\n",
      "459:\tlearn: 3375.8433741\ttotal: 12.8s\tremaining: 15.1s\n",
      "460:\tlearn: 3374.3687443\ttotal: 12.9s\tremaining: 15s\n",
      "461:\tlearn: 3372.6798136\ttotal: 12.9s\tremaining: 15s\n",
      "462:\tlearn: 3371.3062627\ttotal: 12.9s\tremaining: 15s\n",
      "463:\tlearn: 3370.5283289\ttotal: 13s\tremaining: 15s\n",
      "464:\tlearn: 3370.1325471\ttotal: 13s\tremaining: 14.9s\n",
      "465:\tlearn: 3368.7342306\ttotal: 13s\tremaining: 14.9s\n",
      "466:\tlearn: 3366.7930728\ttotal: 13s\tremaining: 14.9s\n",
      "467:\tlearn: 3365.6942882\ttotal: 13.1s\tremaining: 14.9s\n",
      "468:\tlearn: 3365.1686820\ttotal: 13.1s\tremaining: 14.8s\n",
      "469:\tlearn: 3363.2654409\ttotal: 13.1s\tremaining: 14.8s\n",
      "470:\tlearn: 3362.1331585\ttotal: 13.2s\tremaining: 14.8s\n",
      "471:\tlearn: 3361.3149817\ttotal: 13.2s\tremaining: 14.8s\n",
      "472:\tlearn: 3358.7757230\ttotal: 13.2s\tremaining: 14.7s\n",
      "473:\tlearn: 3357.4614569\ttotal: 13.3s\tremaining: 14.7s\n",
      "474:\tlearn: 3356.9484846\ttotal: 13.3s\tremaining: 14.7s\n",
      "475:\tlearn: 3356.5140954\ttotal: 13.3s\tremaining: 14.7s\n",
      "476:\tlearn: 3355.7593763\ttotal: 13.3s\tremaining: 14.6s\n",
      "477:\tlearn: 3355.1459846\ttotal: 13.4s\tremaining: 14.6s\n",
      "478:\tlearn: 3354.0997119\ttotal: 13.4s\tremaining: 14.6s\n",
      "479:\tlearn: 3353.6910854\ttotal: 13.4s\tremaining: 14.5s\n",
      "480:\tlearn: 3353.0264806\ttotal: 13.4s\tremaining: 14.5s\n",
      "481:\tlearn: 3351.3147644\ttotal: 13.5s\tremaining: 14.5s\n",
      "482:\tlearn: 3350.4109164\ttotal: 13.5s\tremaining: 14.5s\n",
      "483:\tlearn: 3349.0305436\ttotal: 13.5s\tremaining: 14.4s\n",
      "484:\tlearn: 3348.3262304\ttotal: 13.6s\tremaining: 14.4s\n",
      "485:\tlearn: 3347.4940205\ttotal: 13.6s\tremaining: 14.4s\n",
      "486:\tlearn: 3346.6068211\ttotal: 13.6s\tremaining: 14.3s\n",
      "487:\tlearn: 3345.6695947\ttotal: 13.6s\tremaining: 14.3s\n",
      "488:\tlearn: 3344.3257304\ttotal: 13.7s\tremaining: 14.3s\n",
      "489:\tlearn: 3342.6259859\ttotal: 13.7s\tremaining: 14.3s\n",
      "490:\tlearn: 3341.8505869\ttotal: 13.7s\tremaining: 14.2s\n",
      "491:\tlearn: 3341.1207186\ttotal: 13.8s\tremaining: 14.2s\n",
      "492:\tlearn: 3339.6908024\ttotal: 13.8s\tremaining: 14.2s\n",
      "493:\tlearn: 3338.5766742\ttotal: 13.8s\tremaining: 14.1s\n",
      "494:\tlearn: 3336.3689055\ttotal: 13.8s\tremaining: 14.1s\n",
      "495:\tlearn: 3335.6626745\ttotal: 13.9s\tremaining: 14.1s\n",
      "496:\tlearn: 3335.1148144\ttotal: 13.9s\tremaining: 14.1s\n",
      "497:\tlearn: 3333.9671066\ttotal: 13.9s\tremaining: 14s\n",
      "498:\tlearn: 3332.7269427\ttotal: 14s\tremaining: 14s\n",
      "499:\tlearn: 3332.0650532\ttotal: 14s\tremaining: 14s\n",
      "500:\tlearn: 3330.3574012\ttotal: 14s\tremaining: 14s\n",
      "501:\tlearn: 3329.4862920\ttotal: 14s\tremaining: 13.9s\n",
      "502:\tlearn: 3328.8592649\ttotal: 14.1s\tremaining: 13.9s\n",
      "503:\tlearn: 3327.8175466\ttotal: 14.1s\tremaining: 13.9s\n",
      "504:\tlearn: 3326.9784722\ttotal: 14.1s\tremaining: 13.8s\n",
      "505:\tlearn: 3325.6784848\ttotal: 14.2s\tremaining: 13.8s\n",
      "506:\tlearn: 3324.1321812\ttotal: 14.2s\tremaining: 13.8s\n",
      "507:\tlearn: 3323.2732895\ttotal: 14.2s\tremaining: 13.8s\n",
      "508:\tlearn: 3322.3470694\ttotal: 14.3s\tremaining: 13.8s\n",
      "509:\tlearn: 3321.0382418\ttotal: 14.3s\tremaining: 13.8s\n",
      "510:\tlearn: 3319.6892287\ttotal: 14.4s\tremaining: 13.7s\n",
      "511:\tlearn: 3318.2887195\ttotal: 14.4s\tremaining: 13.7s\n",
      "512:\tlearn: 3317.9270576\ttotal: 14.4s\tremaining: 13.7s\n",
      "513:\tlearn: 3317.1276136\ttotal: 14.4s\tremaining: 13.6s\n",
      "514:\tlearn: 3316.3785503\ttotal: 14.5s\tremaining: 13.6s\n",
      "515:\tlearn: 3314.5459934\ttotal: 14.5s\tremaining: 13.6s\n",
      "516:\tlearn: 3313.2724472\ttotal: 14.5s\tremaining: 13.6s\n",
      "517:\tlearn: 3312.1049732\ttotal: 14.6s\tremaining: 13.5s\n",
      "518:\tlearn: 3311.4444463\ttotal: 14.6s\tremaining: 13.5s\n",
      "519:\tlearn: 3310.5356460\ttotal: 14.6s\tremaining: 13.5s\n",
      "520:\tlearn: 3310.2417743\ttotal: 14.6s\tremaining: 13.4s\n",
      "521:\tlearn: 3309.2251652\ttotal: 14.7s\tremaining: 13.4s\n",
      "522:\tlearn: 3308.3341521\ttotal: 14.7s\tremaining: 13.4s\n",
      "523:\tlearn: 3307.7138432\ttotal: 14.7s\tremaining: 13.4s\n",
      "524:\tlearn: 3306.4354222\ttotal: 14.7s\tremaining: 13.3s\n",
      "525:\tlearn: 3306.0859627\ttotal: 14.8s\tremaining: 13.3s\n",
      "526:\tlearn: 3303.7556037\ttotal: 14.8s\tremaining: 13.3s\n",
      "527:\tlearn: 3302.8704863\ttotal: 14.8s\tremaining: 13.3s\n",
      "528:\tlearn: 3302.4001586\ttotal: 14.9s\tremaining: 13.2s\n",
      "529:\tlearn: 3301.7588879\ttotal: 14.9s\tremaining: 13.2s\n",
      "530:\tlearn: 3301.1445666\ttotal: 14.9s\tremaining: 13.2s\n",
      "531:\tlearn: 3300.0191319\ttotal: 14.9s\tremaining: 13.2s\n",
      "532:\tlearn: 3298.7263633\ttotal: 15s\tremaining: 13.1s\n",
      "533:\tlearn: 3298.2318423\ttotal: 15s\tremaining: 13.1s\n",
      "534:\tlearn: 3296.8869400\ttotal: 15s\tremaining: 13.1s\n",
      "535:\tlearn: 3295.8486242\ttotal: 15.1s\tremaining: 13s\n",
      "536:\tlearn: 3294.9845676\ttotal: 15.1s\tremaining: 13s\n",
      "537:\tlearn: 3294.5398082\ttotal: 15.1s\tremaining: 13s\n",
      "538:\tlearn: 3294.0134526\ttotal: 15.1s\tremaining: 13s\n",
      "539:\tlearn: 3291.7468651\ttotal: 15.2s\tremaining: 12.9s\n",
      "540:\tlearn: 3291.4140207\ttotal: 15.2s\tremaining: 12.9s\n",
      "541:\tlearn: 3291.1574412\ttotal: 15.2s\tremaining: 12.9s\n",
      "542:\tlearn: 3289.7841205\ttotal: 15.3s\tremaining: 12.8s\n",
      "543:\tlearn: 3288.9928870\ttotal: 15.3s\tremaining: 12.8s\n",
      "544:\tlearn: 3287.5692878\ttotal: 15.3s\tremaining: 12.8s\n",
      "545:\tlearn: 3286.2964874\ttotal: 15.4s\tremaining: 12.8s\n",
      "546:\tlearn: 3285.2160848\ttotal: 15.4s\tremaining: 12.7s\n",
      "547:\tlearn: 3284.4935480\ttotal: 15.4s\tremaining: 12.7s\n",
      "548:\tlearn: 3282.9578810\ttotal: 15.4s\tremaining: 12.7s\n",
      "549:\tlearn: 3282.6476630\ttotal: 15.5s\tremaining: 12.7s\n",
      "550:\tlearn: 3282.0872074\ttotal: 15.5s\tremaining: 12.6s\n",
      "551:\tlearn: 3280.1923177\ttotal: 15.5s\tremaining: 12.6s\n",
      "552:\tlearn: 3278.9833014\ttotal: 15.6s\tremaining: 12.6s\n",
      "553:\tlearn: 3278.5664605\ttotal: 15.6s\tremaining: 12.5s\n",
      "554:\tlearn: 3277.7881382\ttotal: 15.6s\tremaining: 12.5s\n",
      "555:\tlearn: 3277.3928434\ttotal: 15.6s\tremaining: 12.5s\n",
      "556:\tlearn: 3276.2939662\ttotal: 15.7s\tremaining: 12.5s\n",
      "557:\tlearn: 3275.7553223\ttotal: 15.7s\tremaining: 12.4s\n",
      "558:\tlearn: 3273.3225181\ttotal: 15.7s\tremaining: 12.4s\n",
      "559:\tlearn: 3272.8643090\ttotal: 15.8s\tremaining: 12.4s\n",
      "560:\tlearn: 3271.8978414\ttotal: 15.8s\tremaining: 12.4s\n",
      "561:\tlearn: 3271.2225066\ttotal: 15.8s\tremaining: 12.3s\n",
      "562:\tlearn: 3270.2333493\ttotal: 15.9s\tremaining: 12.3s\n",
      "563:\tlearn: 3269.7744405\ttotal: 15.9s\tremaining: 12.3s\n",
      "564:\tlearn: 3269.1462860\ttotal: 15.9s\tremaining: 12.2s\n",
      "565:\tlearn: 3267.6357744\ttotal: 15.9s\tremaining: 12.2s\n",
      "566:\tlearn: 3266.9782941\ttotal: 16s\tremaining: 12.2s\n",
      "567:\tlearn: 3265.6969950\ttotal: 16s\tremaining: 12.2s\n",
      "568:\tlearn: 3264.7955823\ttotal: 16s\tremaining: 12.1s\n",
      "569:\tlearn: 3264.4413292\ttotal: 16.1s\tremaining: 12.1s\n",
      "570:\tlearn: 3263.5003363\ttotal: 16.1s\tremaining: 12.1s\n",
      "571:\tlearn: 3263.2026449\ttotal: 16.1s\tremaining: 12.1s\n",
      "572:\tlearn: 3262.4919508\ttotal: 16.1s\tremaining: 12s\n",
      "573:\tlearn: 3261.9710117\ttotal: 16.2s\tremaining: 12s\n",
      "574:\tlearn: 3261.1145519\ttotal: 16.2s\tremaining: 12s\n",
      "575:\tlearn: 3259.9576329\ttotal: 16.2s\tremaining: 11.9s\n",
      "576:\tlearn: 3259.5455176\ttotal: 16.3s\tremaining: 11.9s\n",
      "577:\tlearn: 3259.0386769\ttotal: 16.3s\tremaining: 11.9s\n",
      "578:\tlearn: 3257.8428710\ttotal: 16.3s\tremaining: 11.9s\n",
      "579:\tlearn: 3256.8000204\ttotal: 16.3s\tremaining: 11.8s\n",
      "580:\tlearn: 3254.5317794\ttotal: 16.4s\tremaining: 11.8s\n",
      "581:\tlearn: 3253.3982416\ttotal: 16.4s\tremaining: 11.8s\n",
      "582:\tlearn: 3252.9059569\ttotal: 16.4s\tremaining: 11.7s\n",
      "583:\tlearn: 3252.3003684\ttotal: 16.4s\tremaining: 11.7s\n",
      "584:\tlearn: 3250.6702922\ttotal: 16.5s\tremaining: 11.7s\n",
      "585:\tlearn: 3249.6237190\ttotal: 16.5s\tremaining: 11.7s\n",
      "586:\tlearn: 3248.8870051\ttotal: 16.5s\tremaining: 11.6s\n",
      "587:\tlearn: 3247.1217524\ttotal: 16.6s\tremaining: 11.6s\n",
      "588:\tlearn: 3245.8303709\ttotal: 16.6s\tremaining: 11.6s\n",
      "589:\tlearn: 3245.1866018\ttotal: 16.6s\tremaining: 11.6s\n",
      "590:\tlearn: 3242.6369706\ttotal: 16.7s\tremaining: 11.5s\n",
      "591:\tlearn: 3239.5203656\ttotal: 16.7s\tremaining: 11.5s\n",
      "592:\tlearn: 3238.7795250\ttotal: 16.7s\tremaining: 11.5s\n",
      "593:\tlearn: 3237.9334675\ttotal: 16.7s\tremaining: 11.4s\n",
      "594:\tlearn: 3237.3610805\ttotal: 16.8s\tremaining: 11.4s\n",
      "595:\tlearn: 3236.5259145\ttotal: 16.8s\tremaining: 11.4s\n",
      "596:\tlearn: 3235.4681913\ttotal: 16.8s\tremaining: 11.3s\n",
      "597:\tlearn: 3234.4728076\ttotal: 16.8s\tremaining: 11.3s\n",
      "598:\tlearn: 3234.0120923\ttotal: 16.9s\tremaining: 11.3s\n",
      "599:\tlearn: 3233.3494880\ttotal: 16.9s\tremaining: 11.3s\n",
      "600:\tlearn: 3232.2808706\ttotal: 16.9s\tremaining: 11.2s\n",
      "601:\tlearn: 3231.6307537\ttotal: 17s\tremaining: 11.2s\n",
      "602:\tlearn: 3230.8658240\ttotal: 17s\tremaining: 11.2s\n",
      "603:\tlearn: 3230.2702639\ttotal: 17s\tremaining: 11.2s\n",
      "604:\tlearn: 3229.9344973\ttotal: 17s\tremaining: 11.1s\n",
      "605:\tlearn: 3229.6355303\ttotal: 17.1s\tremaining: 11.1s\n",
      "606:\tlearn: 3228.8012507\ttotal: 17.1s\tremaining: 11.1s\n",
      "607:\tlearn: 3228.2436233\ttotal: 17.1s\tremaining: 11s\n",
      "608:\tlearn: 3227.4098619\ttotal: 17.2s\tremaining: 11s\n",
      "609:\tlearn: 3226.6027784\ttotal: 17.2s\tremaining: 11s\n",
      "610:\tlearn: 3226.3018929\ttotal: 17.2s\tremaining: 11s\n",
      "611:\tlearn: 3225.8298746\ttotal: 17.2s\tremaining: 10.9s\n",
      "612:\tlearn: 3225.1581900\ttotal: 17.3s\tremaining: 10.9s\n",
      "613:\tlearn: 3223.4561212\ttotal: 17.3s\tremaining: 10.9s\n",
      "614:\tlearn: 3222.6901742\ttotal: 17.3s\tremaining: 10.8s\n",
      "615:\tlearn: 3221.8010814\ttotal: 17.4s\tremaining: 10.8s\n",
      "616:\tlearn: 3220.7628838\ttotal: 17.4s\tremaining: 10.8s\n",
      "617:\tlearn: 3220.1796282\ttotal: 17.4s\tremaining: 10.8s\n",
      "618:\tlearn: 3218.4146930\ttotal: 17.5s\tremaining: 10.7s\n",
      "619:\tlearn: 3217.7191451\ttotal: 17.5s\tremaining: 10.7s\n",
      "620:\tlearn: 3217.4204528\ttotal: 17.5s\tremaining: 10.7s\n",
      "621:\tlearn: 3217.0559296\ttotal: 17.5s\tremaining: 10.7s\n",
      "622:\tlearn: 3216.7605339\ttotal: 17.6s\tremaining: 10.6s\n",
      "623:\tlearn: 3215.9525196\ttotal: 17.6s\tremaining: 10.6s\n",
      "624:\tlearn: 3215.6440274\ttotal: 17.6s\tremaining: 10.6s\n",
      "625:\tlearn: 3215.3217294\ttotal: 17.6s\tremaining: 10.5s\n",
      "626:\tlearn: 3214.8268301\ttotal: 17.7s\tremaining: 10.5s\n",
      "627:\tlearn: 3213.9777712\ttotal: 17.7s\tremaining: 10.5s\n",
      "628:\tlearn: 3213.0480799\ttotal: 17.7s\tremaining: 10.5s\n",
      "629:\tlearn: 3211.8228041\ttotal: 17.8s\tremaining: 10.4s\n",
      "630:\tlearn: 3210.9240278\ttotal: 17.8s\tremaining: 10.4s\n",
      "631:\tlearn: 3210.3714812\ttotal: 17.8s\tremaining: 10.4s\n",
      "632:\tlearn: 3209.9984244\ttotal: 17.8s\tremaining: 10.3s\n",
      "633:\tlearn: 3209.5995061\ttotal: 17.9s\tremaining: 10.3s\n",
      "634:\tlearn: 3208.8224493\ttotal: 17.9s\tremaining: 10.3s\n",
      "635:\tlearn: 3207.9581105\ttotal: 17.9s\tremaining: 10.3s\n",
      "636:\tlearn: 3207.2280826\ttotal: 17.9s\tremaining: 10.2s\n",
      "637:\tlearn: 3206.6764414\ttotal: 18s\tremaining: 10.2s\n",
      "638:\tlearn: 3206.3612693\ttotal: 18s\tremaining: 10.2s\n",
      "639:\tlearn: 3205.9505672\ttotal: 18s\tremaining: 10.1s\n",
      "640:\tlearn: 3205.1890675\ttotal: 18s\tremaining: 10.1s\n",
      "641:\tlearn: 3204.4925788\ttotal: 18.1s\tremaining: 10.1s\n",
      "642:\tlearn: 3203.5437827\ttotal: 18.1s\tremaining: 10.1s\n",
      "643:\tlearn: 3203.0892128\ttotal: 18.1s\tremaining: 10s\n",
      "644:\tlearn: 3202.2474132\ttotal: 18.2s\tremaining: 10s\n",
      "645:\tlearn: 3201.3534904\ttotal: 18.2s\tremaining: 9.97s\n",
      "646:\tlearn: 3200.7920406\ttotal: 18.2s\tremaining: 9.94s\n",
      "647:\tlearn: 3200.3559686\ttotal: 18.3s\tremaining: 9.91s\n",
      "648:\tlearn: 3199.2811764\ttotal: 18.3s\tremaining: 9.89s\n",
      "649:\tlearn: 3198.8695265\ttotal: 18.3s\tremaining: 9.86s\n",
      "650:\tlearn: 3197.7590413\ttotal: 18.3s\tremaining: 9.83s\n",
      "651:\tlearn: 3196.4907036\ttotal: 18.4s\tremaining: 9.81s\n",
      "652:\tlearn: 3194.0130649\ttotal: 18.4s\tremaining: 9.78s\n",
      "653:\tlearn: 3193.5032874\ttotal: 18.4s\tremaining: 9.75s\n",
      "654:\tlearn: 3192.3513205\ttotal: 18.5s\tremaining: 9.73s\n",
      "655:\tlearn: 3191.1812515\ttotal: 18.5s\tremaining: 9.7s\n",
      "656:\tlearn: 3190.2299851\ttotal: 18.5s\tremaining: 9.67s\n",
      "657:\tlearn: 3188.8604176\ttotal: 18.6s\tremaining: 9.64s\n",
      "658:\tlearn: 3187.6147878\ttotal: 18.6s\tremaining: 9.62s\n",
      "659:\tlearn: 3187.0030900\ttotal: 18.6s\tremaining: 9.59s\n",
      "660:\tlearn: 3186.1861392\ttotal: 18.6s\tremaining: 9.56s\n",
      "661:\tlearn: 3185.6383505\ttotal: 18.7s\tremaining: 9.53s\n",
      "662:\tlearn: 3184.3926561\ttotal: 18.7s\tremaining: 9.5s\n",
      "663:\tlearn: 3183.7507272\ttotal: 18.7s\tremaining: 9.47s\n",
      "664:\tlearn: 3182.9826841\ttotal: 18.8s\tremaining: 9.45s\n",
      "665:\tlearn: 3182.0155149\ttotal: 18.8s\tremaining: 9.42s\n",
      "666:\tlearn: 3180.0329925\ttotal: 18.8s\tremaining: 9.39s\n",
      "667:\tlearn: 3179.5169028\ttotal: 18.8s\tremaining: 9.36s\n",
      "668:\tlearn: 3178.3266999\ttotal: 18.9s\tremaining: 9.34s\n",
      "669:\tlearn: 3177.6000564\ttotal: 18.9s\tremaining: 9.3s\n",
      "670:\tlearn: 3176.8062804\ttotal: 18.9s\tremaining: 9.28s\n",
      "671:\tlearn: 3176.3919720\ttotal: 18.9s\tremaining: 9.25s\n",
      "672:\tlearn: 3175.2713545\ttotal: 19s\tremaining: 9.22s\n",
      "673:\tlearn: 3174.7189159\ttotal: 19s\tremaining: 9.19s\n",
      "674:\tlearn: 3174.4127448\ttotal: 19s\tremaining: 9.16s\n",
      "675:\tlearn: 3173.9983242\ttotal: 19.1s\tremaining: 9.13s\n",
      "676:\tlearn: 3173.5737284\ttotal: 19.1s\tremaining: 9.1s\n",
      "677:\tlearn: 3172.9481405\ttotal: 19.1s\tremaining: 9.07s\n",
      "678:\tlearn: 3172.5218189\ttotal: 19.1s\tremaining: 9.05s\n",
      "679:\tlearn: 3171.3382225\ttotal: 19.2s\tremaining: 9.02s\n",
      "680:\tlearn: 3170.6568055\ttotal: 19.2s\tremaining: 8.99s\n",
      "681:\tlearn: 3169.8749529\ttotal: 19.2s\tremaining: 8.96s\n",
      "682:\tlearn: 3168.9504106\ttotal: 19.3s\tremaining: 8.94s\n",
      "683:\tlearn: 3168.3710343\ttotal: 19.3s\tremaining: 8.91s\n",
      "684:\tlearn: 3167.1673356\ttotal: 19.3s\tremaining: 8.88s\n",
      "685:\tlearn: 3166.4825796\ttotal: 19.3s\tremaining: 8.85s\n",
      "686:\tlearn: 3166.0265167\ttotal: 19.4s\tremaining: 8.82s\n",
      "687:\tlearn: 3165.7736662\ttotal: 19.4s\tremaining: 8.79s\n",
      "688:\tlearn: 3164.4065308\ttotal: 19.4s\tremaining: 8.77s\n",
      "689:\tlearn: 3163.0434442\ttotal: 19.5s\tremaining: 8.74s\n",
      "690:\tlearn: 3162.5759049\ttotal: 19.5s\tremaining: 8.71s\n",
      "691:\tlearn: 3162.1057528\ttotal: 19.5s\tremaining: 8.68s\n",
      "692:\tlearn: 3161.6462391\ttotal: 19.5s\tremaining: 8.65s\n",
      "693:\tlearn: 3160.4316111\ttotal: 19.6s\tremaining: 8.63s\n",
      "694:\tlearn: 3159.8775563\ttotal: 19.6s\tremaining: 8.6s\n",
      "695:\tlearn: 3159.1923821\ttotal: 19.6s\tremaining: 8.57s\n",
      "696:\tlearn: 3158.0153209\ttotal: 19.7s\tremaining: 8.54s\n",
      "697:\tlearn: 3156.7715873\ttotal: 19.7s\tremaining: 8.52s\n",
      "698:\tlearn: 3155.6837256\ttotal: 19.7s\tremaining: 8.49s\n",
      "699:\tlearn: 3155.1939571\ttotal: 19.7s\tremaining: 8.46s\n",
      "700:\tlearn: 3154.4849614\ttotal: 19.8s\tremaining: 8.43s\n",
      "701:\tlearn: 3154.2212201\ttotal: 19.8s\tremaining: 8.4s\n",
      "702:\tlearn: 3153.4218697\ttotal: 19.8s\tremaining: 8.37s\n",
      "703:\tlearn: 3152.7640051\ttotal: 19.9s\tremaining: 8.35s\n",
      "704:\tlearn: 3152.4580574\ttotal: 19.9s\tremaining: 8.32s\n",
      "705:\tlearn: 3151.5085962\ttotal: 19.9s\tremaining: 8.29s\n",
      "706:\tlearn: 3150.7789261\ttotal: 19.9s\tremaining: 8.27s\n",
      "707:\tlearn: 3150.2860183\ttotal: 20s\tremaining: 8.24s\n",
      "708:\tlearn: 3149.9195612\ttotal: 20s\tremaining: 8.21s\n",
      "709:\tlearn: 3149.4690758\ttotal: 20s\tremaining: 8.18s\n",
      "710:\tlearn: 3148.1938951\ttotal: 20.1s\tremaining: 8.15s\n",
      "711:\tlearn: 3147.8117390\ttotal: 20.1s\tremaining: 8.13s\n",
      "712:\tlearn: 3146.7625095\ttotal: 20.1s\tremaining: 8.1s\n",
      "713:\tlearn: 3146.3587472\ttotal: 20.2s\tremaining: 8.07s\n",
      "714:\tlearn: 3145.7892548\ttotal: 20.2s\tremaining: 8.04s\n",
      "715:\tlearn: 3145.2652154\ttotal: 20.2s\tremaining: 8.02s\n",
      "716:\tlearn: 3143.8424946\ttotal: 20.2s\tremaining: 7.99s\n",
      "717:\tlearn: 3142.8239548\ttotal: 20.3s\tremaining: 7.96s\n",
      "718:\tlearn: 3142.4127805\ttotal: 20.3s\tremaining: 7.94s\n",
      "719:\tlearn: 3141.2074351\ttotal: 20.3s\tremaining: 7.91s\n",
      "720:\tlearn: 3140.6437977\ttotal: 20.4s\tremaining: 7.88s\n",
      "721:\tlearn: 3139.7414001\ttotal: 20.4s\tremaining: 7.85s\n",
      "722:\tlearn: 3139.0407980\ttotal: 20.4s\tremaining: 7.83s\n",
      "723:\tlearn: 3138.5463621\ttotal: 20.5s\tremaining: 7.8s\n",
      "724:\tlearn: 3138.1237339\ttotal: 20.5s\tremaining: 7.77s\n",
      "725:\tlearn: 3137.1234404\ttotal: 20.5s\tremaining: 7.74s\n",
      "726:\tlearn: 3136.7766094\ttotal: 20.5s\tremaining: 7.71s\n",
      "727:\tlearn: 3135.7357618\ttotal: 20.6s\tremaining: 7.69s\n",
      "728:\tlearn: 3135.2865871\ttotal: 20.6s\tremaining: 7.66s\n",
      "729:\tlearn: 3134.3017644\ttotal: 20.6s\tremaining: 7.63s\n",
      "730:\tlearn: 3133.5024352\ttotal: 20.7s\tremaining: 7.6s\n",
      "731:\tlearn: 3132.5769220\ttotal: 20.7s\tremaining: 7.57s\n",
      "732:\tlearn: 3132.0010662\ttotal: 20.7s\tremaining: 7.55s\n",
      "733:\tlearn: 3131.1639291\ttotal: 20.8s\tremaining: 7.52s\n",
      "734:\tlearn: 3130.7384265\ttotal: 20.8s\tremaining: 7.49s\n",
      "735:\tlearn: 3130.0926693\ttotal: 20.8s\tremaining: 7.46s\n",
      "736:\tlearn: 3129.5250480\ttotal: 20.8s\tremaining: 7.43s\n",
      "737:\tlearn: 3128.7736678\ttotal: 20.9s\tremaining: 7.41s\n",
      "738:\tlearn: 3128.2857177\ttotal: 20.9s\tremaining: 7.38s\n",
      "739:\tlearn: 3127.5492770\ttotal: 20.9s\tremaining: 7.35s\n",
      "740:\tlearn: 3126.9227081\ttotal: 20.9s\tremaining: 7.32s\n",
      "741:\tlearn: 3125.8081292\ttotal: 21s\tremaining: 7.29s\n",
      "742:\tlearn: 3125.0792787\ttotal: 21s\tremaining: 7.26s\n",
      "743:\tlearn: 3123.7757422\ttotal: 21s\tremaining: 7.24s\n",
      "744:\tlearn: 3123.3194401\ttotal: 21.1s\tremaining: 7.21s\n",
      "745:\tlearn: 3122.4531067\ttotal: 21.1s\tremaining: 7.18s\n",
      "746:\tlearn: 3122.1206287\ttotal: 21.1s\tremaining: 7.15s\n",
      "747:\tlearn: 3121.9327705\ttotal: 21.1s\tremaining: 7.12s\n",
      "748:\tlearn: 3121.5573206\ttotal: 21.2s\tremaining: 7.09s\n",
      "749:\tlearn: 3120.4946884\ttotal: 21.2s\tremaining: 7.07s\n",
      "750:\tlearn: 3118.2600995\ttotal: 21.2s\tremaining: 7.04s\n",
      "751:\tlearn: 3117.4482666\ttotal: 21.3s\tremaining: 7.01s\n",
      "752:\tlearn: 3116.6949357\ttotal: 21.3s\tremaining: 6.99s\n",
      "753:\tlearn: 3116.3138412\ttotal: 21.3s\tremaining: 6.96s\n",
      "754:\tlearn: 3115.6909882\ttotal: 21.4s\tremaining: 6.93s\n",
      "755:\tlearn: 3114.5634327\ttotal: 21.4s\tremaining: 6.9s\n",
      "756:\tlearn: 3113.8853726\ttotal: 21.4s\tremaining: 6.87s\n",
      "757:\tlearn: 3112.4654100\ttotal: 21.4s\tremaining: 6.84s\n",
      "758:\tlearn: 3111.7331707\ttotal: 21.5s\tremaining: 6.82s\n",
      "759:\tlearn: 3111.1455683\ttotal: 21.5s\tremaining: 6.79s\n",
      "760:\tlearn: 3110.2065899\ttotal: 21.5s\tremaining: 6.76s\n",
      "761:\tlearn: 3109.1806876\ttotal: 21.6s\tremaining: 6.73s\n",
      "762:\tlearn: 3108.2196116\ttotal: 21.6s\tremaining: 6.71s\n",
      "763:\tlearn: 3105.1664920\ttotal: 21.6s\tremaining: 6.68s\n",
      "764:\tlearn: 3102.7911694\ttotal: 21.7s\tremaining: 6.65s\n",
      "765:\tlearn: 3102.4138247\ttotal: 21.7s\tremaining: 6.62s\n",
      "766:\tlearn: 3101.9926111\ttotal: 21.7s\tremaining: 6.59s\n",
      "767:\tlearn: 3101.3319353\ttotal: 21.7s\tremaining: 6.57s\n",
      "768:\tlearn: 3100.0469197\ttotal: 21.8s\tremaining: 6.54s\n",
      "769:\tlearn: 3099.5205976\ttotal: 21.8s\tremaining: 6.51s\n",
      "770:\tlearn: 3098.8900442\ttotal: 21.8s\tremaining: 6.49s\n",
      "771:\tlearn: 3097.6411597\ttotal: 21.9s\tremaining: 6.46s\n",
      "772:\tlearn: 3096.5464404\ttotal: 21.9s\tremaining: 6.43s\n",
      "773:\tlearn: 3096.2178478\ttotal: 21.9s\tremaining: 6.4s\n",
      "774:\tlearn: 3095.5113636\ttotal: 21.9s\tremaining: 6.37s\n",
      "775:\tlearn: 3094.3649606\ttotal: 22s\tremaining: 6.34s\n",
      "776:\tlearn: 3093.5323323\ttotal: 22s\tremaining: 6.32s\n",
      "777:\tlearn: 3092.9586789\ttotal: 22s\tremaining: 6.29s\n",
      "778:\tlearn: 3092.1909629\ttotal: 22.1s\tremaining: 6.26s\n",
      "779:\tlearn: 3091.7117903\ttotal: 22.1s\tremaining: 6.23s\n",
      "780:\tlearn: 3091.1947077\ttotal: 22.1s\tremaining: 6.21s\n",
      "781:\tlearn: 3090.6164920\ttotal: 22.2s\tremaining: 6.18s\n",
      "782:\tlearn: 3090.3431455\ttotal: 22.2s\tremaining: 6.15s\n",
      "783:\tlearn: 3089.4654892\ttotal: 22.2s\tremaining: 6.12s\n",
      "784:\tlearn: 3088.2579939\ttotal: 22.2s\tremaining: 6.09s\n",
      "785:\tlearn: 3087.8491225\ttotal: 22.3s\tremaining: 6.07s\n",
      "786:\tlearn: 3087.0307914\ttotal: 22.3s\tremaining: 6.04s\n",
      "787:\tlearn: 3086.5721547\ttotal: 22.3s\tremaining: 6.01s\n",
      "788:\tlearn: 3086.0675479\ttotal: 22.4s\tremaining: 5.98s\n",
      "789:\tlearn: 3085.5509248\ttotal: 22.4s\tremaining: 5.95s\n",
      "790:\tlearn: 3084.8903164\ttotal: 22.4s\tremaining: 5.92s\n",
      "791:\tlearn: 3084.6929932\ttotal: 22.4s\tremaining: 5.89s\n",
      "792:\tlearn: 3084.2763433\ttotal: 22.5s\tremaining: 5.87s\n",
      "793:\tlearn: 3083.5564411\ttotal: 22.5s\tremaining: 5.84s\n",
      "794:\tlearn: 3083.0359222\ttotal: 22.5s\tremaining: 5.81s\n",
      "795:\tlearn: 3082.7747243\ttotal: 22.6s\tremaining: 5.78s\n",
      "796:\tlearn: 3082.0492491\ttotal: 22.6s\tremaining: 5.75s\n",
      "797:\tlearn: 3080.8520007\ttotal: 22.6s\tremaining: 5.72s\n",
      "798:\tlearn: 3080.2512783\ttotal: 22.6s\tremaining: 5.7s\n",
      "799:\tlearn: 3079.9863103\ttotal: 22.7s\tremaining: 5.67s\n",
      "800:\tlearn: 3079.5464140\ttotal: 22.7s\tremaining: 5.64s\n",
      "801:\tlearn: 3078.6507500\ttotal: 22.7s\tremaining: 5.61s\n",
      "802:\tlearn: 3078.2509555\ttotal: 22.7s\tremaining: 5.58s\n",
      "803:\tlearn: 3077.2273789\ttotal: 22.8s\tremaining: 5.55s\n",
      "804:\tlearn: 3075.5974954\ttotal: 22.8s\tremaining: 5.53s\n",
      "805:\tlearn: 3074.6488028\ttotal: 22.8s\tremaining: 5.5s\n",
      "806:\tlearn: 3073.8316210\ttotal: 22.9s\tremaining: 5.47s\n",
      "807:\tlearn: 3073.4982855\ttotal: 22.9s\tremaining: 5.44s\n",
      "808:\tlearn: 3072.8655483\ttotal: 22.9s\tremaining: 5.41s\n",
      "809:\tlearn: 3072.6302742\ttotal: 22.9s\tremaining: 5.38s\n",
      "810:\tlearn: 3072.3843100\ttotal: 23s\tremaining: 5.35s\n",
      "811:\tlearn: 3071.8461618\ttotal: 23s\tremaining: 5.33s\n",
      "812:\tlearn: 3071.2109278\ttotal: 23s\tremaining: 5.3s\n",
      "813:\tlearn: 3070.1594826\ttotal: 23.1s\tremaining: 5.27s\n",
      "814:\tlearn: 3069.2197039\ttotal: 23.1s\tremaining: 5.24s\n",
      "815:\tlearn: 3068.8810221\ttotal: 23.1s\tremaining: 5.21s\n",
      "816:\tlearn: 3067.9029684\ttotal: 23.2s\tremaining: 5.19s\n",
      "817:\tlearn: 3067.2828259\ttotal: 23.2s\tremaining: 5.16s\n",
      "818:\tlearn: 3066.9207712\ttotal: 23.2s\tremaining: 5.13s\n",
      "819:\tlearn: 3066.0811065\ttotal: 23.2s\tremaining: 5.1s\n",
      "820:\tlearn: 3065.0937303\ttotal: 23.3s\tremaining: 5.07s\n",
      "821:\tlearn: 3064.4437735\ttotal: 23.3s\tremaining: 5.05s\n",
      "822:\tlearn: 3063.9884509\ttotal: 23.3s\tremaining: 5.02s\n",
      "823:\tlearn: 3062.1871958\ttotal: 23.4s\tremaining: 4.99s\n",
      "824:\tlearn: 3061.7467298\ttotal: 23.4s\tremaining: 4.96s\n",
      "825:\tlearn: 3060.2160248\ttotal: 23.4s\tremaining: 4.93s\n",
      "826:\tlearn: 3059.7595527\ttotal: 23.5s\tremaining: 4.91s\n",
      "827:\tlearn: 3059.0656579\ttotal: 23.5s\tremaining: 4.88s\n",
      "828:\tlearn: 3058.4927815\ttotal: 23.5s\tremaining: 4.85s\n",
      "829:\tlearn: 3057.7656229\ttotal: 23.5s\tremaining: 4.82s\n",
      "830:\tlearn: 3057.1931242\ttotal: 23.6s\tremaining: 4.79s\n",
      "831:\tlearn: 3056.4703572\ttotal: 23.6s\tremaining: 4.76s\n",
      "832:\tlearn: 3055.8481732\ttotal: 23.6s\tremaining: 4.74s\n",
      "833:\tlearn: 3055.1534060\ttotal: 23.7s\tremaining: 4.71s\n",
      "834:\tlearn: 3054.4287414\ttotal: 23.7s\tremaining: 4.68s\n",
      "835:\tlearn: 3053.4870343\ttotal: 23.7s\tremaining: 4.65s\n",
      "836:\tlearn: 3052.8240254\ttotal: 23.8s\tremaining: 4.63s\n",
      "837:\tlearn: 3052.5556081\ttotal: 23.8s\tremaining: 4.6s\n",
      "838:\tlearn: 3052.0169796\ttotal: 23.8s\tremaining: 4.57s\n",
      "839:\tlearn: 3051.4935159\ttotal: 23.8s\tremaining: 4.54s\n",
      "840:\tlearn: 3051.0657802\ttotal: 23.9s\tremaining: 4.51s\n",
      "841:\tlearn: 3049.9066235\ttotal: 23.9s\tremaining: 4.48s\n",
      "842:\tlearn: 3048.9169663\ttotal: 23.9s\tremaining: 4.46s\n",
      "843:\tlearn: 3048.1332657\ttotal: 24s\tremaining: 4.43s\n",
      "844:\tlearn: 3047.8177129\ttotal: 24s\tremaining: 4.4s\n",
      "845:\tlearn: 3047.1794201\ttotal: 24s\tremaining: 4.37s\n",
      "846:\tlearn: 3046.7645372\ttotal: 24s\tremaining: 4.34s\n",
      "847:\tlearn: 3046.1738101\ttotal: 24.1s\tremaining: 4.31s\n",
      "848:\tlearn: 3045.5978501\ttotal: 24.1s\tremaining: 4.29s\n",
      "849:\tlearn: 3044.9525072\ttotal: 24.1s\tremaining: 4.26s\n",
      "850:\tlearn: 3044.5788153\ttotal: 24.2s\tremaining: 4.24s\n",
      "851:\tlearn: 3044.0323291\ttotal: 24.2s\tremaining: 4.21s\n",
      "852:\tlearn: 3043.5208624\ttotal: 24.3s\tremaining: 4.18s\n",
      "853:\tlearn: 3043.2007375\ttotal: 24.3s\tremaining: 4.15s\n",
      "854:\tlearn: 3042.4584669\ttotal: 24.3s\tremaining: 4.12s\n",
      "855:\tlearn: 3041.5199109\ttotal: 24.4s\tremaining: 4.1s\n",
      "856:\tlearn: 3040.6144129\ttotal: 24.4s\tremaining: 4.07s\n",
      "857:\tlearn: 3039.6341791\ttotal: 24.4s\tremaining: 4.04s\n",
      "858:\tlearn: 3039.3489124\ttotal: 24.4s\tremaining: 4.01s\n",
      "859:\tlearn: 3038.3438822\ttotal: 24.5s\tremaining: 3.98s\n",
      "860:\tlearn: 3037.7960049\ttotal: 24.5s\tremaining: 3.96s\n",
      "861:\tlearn: 3037.0208403\ttotal: 24.5s\tremaining: 3.93s\n",
      "862:\tlearn: 3036.5821970\ttotal: 24.6s\tremaining: 3.9s\n",
      "863:\tlearn: 3035.9927498\ttotal: 24.6s\tremaining: 3.87s\n",
      "864:\tlearn: 3035.2462778\ttotal: 24.6s\tremaining: 3.84s\n",
      "865:\tlearn: 3033.7916998\ttotal: 24.7s\tremaining: 3.81s\n",
      "866:\tlearn: 3033.1917963\ttotal: 24.7s\tremaining: 3.79s\n",
      "867:\tlearn: 3032.8850058\ttotal: 24.7s\tremaining: 3.76s\n",
      "868:\tlearn: 3031.9426889\ttotal: 24.7s\tremaining: 3.73s\n",
      "869:\tlearn: 3031.0511126\ttotal: 24.8s\tremaining: 3.7s\n",
      "870:\tlearn: 3030.8682090\ttotal: 24.8s\tremaining: 3.67s\n",
      "871:\tlearn: 3030.3550839\ttotal: 24.8s\tremaining: 3.64s\n",
      "872:\tlearn: 3029.3918866\ttotal: 24.9s\tremaining: 3.62s\n",
      "873:\tlearn: 3029.1322286\ttotal: 24.9s\tremaining: 3.59s\n",
      "874:\tlearn: 3028.7958114\ttotal: 24.9s\tremaining: 3.56s\n",
      "875:\tlearn: 3028.2754891\ttotal: 24.9s\tremaining: 3.53s\n",
      "876:\tlearn: 3028.0302414\ttotal: 25s\tremaining: 3.5s\n",
      "877:\tlearn: 3027.5857357\ttotal: 25s\tremaining: 3.47s\n",
      "878:\tlearn: 3027.1650422\ttotal: 25s\tremaining: 3.44s\n",
      "879:\tlearn: 3026.4164818\ttotal: 25.1s\tremaining: 3.42s\n",
      "880:\tlearn: 3025.3054853\ttotal: 25.1s\tremaining: 3.39s\n",
      "881:\tlearn: 3024.7810954\ttotal: 25.1s\tremaining: 3.36s\n",
      "882:\tlearn: 3024.4971329\ttotal: 25.1s\tremaining: 3.33s\n",
      "883:\tlearn: 3023.5227392\ttotal: 25.2s\tremaining: 3.3s\n",
      "884:\tlearn: 3023.1775021\ttotal: 25.2s\tremaining: 3.27s\n",
      "885:\tlearn: 3022.9604026\ttotal: 25.2s\tremaining: 3.25s\n",
      "886:\tlearn: 3021.9552890\ttotal: 25.3s\tremaining: 3.22s\n",
      "887:\tlearn: 3021.2390075\ttotal: 25.3s\tremaining: 3.19s\n",
      "888:\tlearn: 3020.6694149\ttotal: 25.3s\tremaining: 3.16s\n",
      "889:\tlearn: 3019.4670333\ttotal: 25.3s\tremaining: 3.13s\n",
      "890:\tlearn: 3018.6990169\ttotal: 25.4s\tremaining: 3.1s\n",
      "891:\tlearn: 3018.5618151\ttotal: 25.4s\tremaining: 3.07s\n",
      "892:\tlearn: 3017.5464457\ttotal: 25.4s\tremaining: 3.05s\n",
      "893:\tlearn: 3017.1976106\ttotal: 25.5s\tremaining: 3.02s\n",
      "894:\tlearn: 3016.2938702\ttotal: 25.5s\tremaining: 2.99s\n",
      "895:\tlearn: 3015.4712263\ttotal: 25.5s\tremaining: 2.96s\n",
      "896:\tlearn: 3014.8335310\ttotal: 25.6s\tremaining: 2.93s\n",
      "897:\tlearn: 3014.3155176\ttotal: 25.6s\tremaining: 2.91s\n",
      "898:\tlearn: 3013.4922589\ttotal: 25.6s\tremaining: 2.88s\n",
      "899:\tlearn: 3013.3453415\ttotal: 25.7s\tremaining: 2.85s\n",
      "900:\tlearn: 3012.7026709\ttotal: 25.7s\tremaining: 2.83s\n",
      "901:\tlearn: 3012.2464965\ttotal: 25.8s\tremaining: 2.8s\n",
      "902:\tlearn: 3011.6439341\ttotal: 25.8s\tremaining: 2.77s\n",
      "903:\tlearn: 3010.4567279\ttotal: 25.8s\tremaining: 2.74s\n",
      "904:\tlearn: 3009.6649188\ttotal: 25.9s\tremaining: 2.72s\n",
      "905:\tlearn: 3008.9372503\ttotal: 25.9s\tremaining: 2.69s\n",
      "906:\tlearn: 3008.5249272\ttotal: 26s\tremaining: 2.66s\n",
      "907:\tlearn: 3007.9743672\ttotal: 26s\tremaining: 2.63s\n",
      "908:\tlearn: 3007.2375144\ttotal: 26.1s\tremaining: 2.61s\n",
      "909:\tlearn: 3006.8510640\ttotal: 26.1s\tremaining: 2.58s\n",
      "910:\tlearn: 3006.4285109\ttotal: 26.1s\tremaining: 2.55s\n",
      "911:\tlearn: 3005.9553398\ttotal: 26.2s\tremaining: 2.52s\n",
      "912:\tlearn: 3004.4294526\ttotal: 26.2s\tremaining: 2.5s\n",
      "913:\tlearn: 3003.1173748\ttotal: 26.2s\tremaining: 2.47s\n",
      "914:\tlearn: 3002.5828022\ttotal: 26.3s\tremaining: 2.44s\n",
      "915:\tlearn: 3002.2012386\ttotal: 26.3s\tremaining: 2.41s\n",
      "916:\tlearn: 3001.6509858\ttotal: 26.4s\tremaining: 2.39s\n",
      "917:\tlearn: 3001.2971875\ttotal: 26.4s\tremaining: 2.36s\n",
      "918:\tlearn: 3000.6788555\ttotal: 26.4s\tremaining: 2.33s\n",
      "919:\tlearn: 3000.3068407\ttotal: 26.5s\tremaining: 2.3s\n",
      "920:\tlearn: 3000.0039632\ttotal: 26.5s\tremaining: 2.27s\n",
      "921:\tlearn: 2999.5093558\ttotal: 26.6s\tremaining: 2.25s\n",
      "922:\tlearn: 2999.0587985\ttotal: 26.6s\tremaining: 2.22s\n",
      "923:\tlearn: 2998.5913828\ttotal: 26.7s\tremaining: 2.19s\n",
      "924:\tlearn: 2997.4746475\ttotal: 26.7s\tremaining: 2.17s\n",
      "925:\tlearn: 2997.0157962\ttotal: 26.8s\tremaining: 2.14s\n",
      "926:\tlearn: 2996.1502728\ttotal: 26.8s\tremaining: 2.11s\n",
      "927:\tlearn: 2994.9931592\ttotal: 26.8s\tremaining: 2.08s\n",
      "928:\tlearn: 2994.5558342\ttotal: 26.9s\tremaining: 2.05s\n",
      "929:\tlearn: 2994.1750259\ttotal: 26.9s\tremaining: 2.03s\n",
      "930:\tlearn: 2993.5849716\ttotal: 26.9s\tremaining: 2s\n",
      "931:\tlearn: 2991.8982132\ttotal: 27s\tremaining: 1.97s\n",
      "932:\tlearn: 2991.0123090\ttotal: 27s\tremaining: 1.94s\n",
      "933:\tlearn: 2990.6284156\ttotal: 27s\tremaining: 1.91s\n",
      "934:\tlearn: 2989.9787226\ttotal: 27.1s\tremaining: 1.88s\n",
      "935:\tlearn: 2989.3793433\ttotal: 27.1s\tremaining: 1.85s\n",
      "936:\tlearn: 2989.1275922\ttotal: 27.1s\tremaining: 1.82s\n",
      "937:\tlearn: 2988.9592466\ttotal: 27.1s\tremaining: 1.79s\n",
      "938:\tlearn: 2988.7116307\ttotal: 27.2s\tremaining: 1.76s\n",
      "939:\tlearn: 2988.1965958\ttotal: 27.2s\tremaining: 1.74s\n",
      "940:\tlearn: 2987.5678835\ttotal: 27.2s\tremaining: 1.71s\n",
      "941:\tlearn: 2986.6972860\ttotal: 27.3s\tremaining: 1.68s\n",
      "942:\tlearn: 2986.4145418\ttotal: 27.3s\tremaining: 1.65s\n",
      "943:\tlearn: 2985.4577950\ttotal: 27.3s\tremaining: 1.62s\n",
      "944:\tlearn: 2984.5595308\ttotal: 27.3s\tremaining: 1.59s\n",
      "945:\tlearn: 2984.3962821\ttotal: 27.4s\tremaining: 1.56s\n",
      "946:\tlearn: 2983.7317514\ttotal: 27.4s\tremaining: 1.53s\n",
      "947:\tlearn: 2983.3609595\ttotal: 27.4s\tremaining: 1.5s\n",
      "948:\tlearn: 2982.8515515\ttotal: 27.4s\tremaining: 1.47s\n",
      "949:\tlearn: 2982.5185228\ttotal: 27.5s\tremaining: 1.45s\n",
      "950:\tlearn: 2982.2612347\ttotal: 27.5s\tremaining: 1.42s\n",
      "951:\tlearn: 2981.7227692\ttotal: 27.5s\tremaining: 1.39s\n",
      "952:\tlearn: 2981.1407275\ttotal: 27.6s\tremaining: 1.36s\n",
      "953:\tlearn: 2980.1782378\ttotal: 27.6s\tremaining: 1.33s\n",
      "954:\tlearn: 2979.8664068\ttotal: 27.6s\tremaining: 1.3s\n",
      "955:\tlearn: 2979.6394573\ttotal: 27.6s\tremaining: 1.27s\n",
      "956:\tlearn: 2979.3345691\ttotal: 27.7s\tremaining: 1.24s\n",
      "957:\tlearn: 2979.1221678\ttotal: 27.7s\tremaining: 1.21s\n",
      "958:\tlearn: 2978.6994380\ttotal: 27.7s\tremaining: 1.19s\n",
      "959:\tlearn: 2978.1338184\ttotal: 27.7s\tremaining: 1.16s\n",
      "960:\tlearn: 2977.4817473\ttotal: 27.8s\tremaining: 1.13s\n",
      "961:\tlearn: 2976.8179654\ttotal: 27.8s\tremaining: 1.1s\n",
      "962:\tlearn: 2976.3870510\ttotal: 27.8s\tremaining: 1.07s\n",
      "963:\tlearn: 2975.9984335\ttotal: 27.9s\tremaining: 1.04s\n",
      "964:\tlearn: 2975.4867041\ttotal: 27.9s\tremaining: 1.01s\n",
      "965:\tlearn: 2975.0171997\ttotal: 27.9s\tremaining: 982ms\n",
      "966:\tlearn: 2974.6396552\ttotal: 27.9s\tremaining: 953ms\n",
      "967:\tlearn: 2973.9666665\ttotal: 28s\tremaining: 924ms\n",
      "968:\tlearn: 2972.4964730\ttotal: 28s\tremaining: 895ms\n",
      "969:\tlearn: 2972.2533622\ttotal: 28s\tremaining: 867ms\n",
      "970:\tlearn: 2971.6242252\ttotal: 28s\tremaining: 838ms\n",
      "971:\tlearn: 2971.2523830\ttotal: 28.1s\tremaining: 809ms\n",
      "972:\tlearn: 2970.4046355\ttotal: 28.1s\tremaining: 780ms\n",
      "973:\tlearn: 2970.0058453\ttotal: 28.1s\tremaining: 751ms\n",
      "974:\tlearn: 2969.4849109\ttotal: 28.2s\tremaining: 722ms\n",
      "975:\tlearn: 2969.1641641\ttotal: 28.2s\tremaining: 693ms\n",
      "976:\tlearn: 2968.6391814\ttotal: 28.2s\tremaining: 664ms\n",
      "977:\tlearn: 2968.3262787\ttotal: 28.2s\tremaining: 635ms\n",
      "978:\tlearn: 2967.9547883\ttotal: 28.3s\tremaining: 606ms\n",
      "979:\tlearn: 2967.7051554\ttotal: 28.3s\tremaining: 577ms\n",
      "980:\tlearn: 2967.2190089\ttotal: 28.3s\tremaining: 549ms\n",
      "981:\tlearn: 2967.0737434\ttotal: 28.3s\tremaining: 520ms\n",
      "982:\tlearn: 2966.9425091\ttotal: 28.4s\tremaining: 491ms\n",
      "983:\tlearn: 2965.8163441\ttotal: 28.4s\tremaining: 462ms\n",
      "984:\tlearn: 2965.2957099\ttotal: 28.4s\tremaining: 433ms\n",
      "985:\tlearn: 2964.8872892\ttotal: 28.5s\tremaining: 404ms\n",
      "986:\tlearn: 2964.3904796\ttotal: 28.5s\tremaining: 375ms\n",
      "987:\tlearn: 2963.9791515\ttotal: 28.5s\tremaining: 346ms\n",
      "988:\tlearn: 2963.4315654\ttotal: 28.5s\tremaining: 317ms\n",
      "989:\tlearn: 2963.0911080\ttotal: 28.6s\tremaining: 289ms\n",
      "990:\tlearn: 2962.4705827\ttotal: 28.6s\tremaining: 260ms\n",
      "991:\tlearn: 2961.7631614\ttotal: 28.6s\tremaining: 231ms\n",
      "992:\tlearn: 2960.5536287\ttotal: 28.7s\tremaining: 202ms\n",
      "993:\tlearn: 2960.0721031\ttotal: 28.7s\tremaining: 173ms\n",
      "994:\tlearn: 2959.5400283\ttotal: 28.7s\tremaining: 144ms\n",
      "995:\tlearn: 2959.2959617\ttotal: 28.7s\tremaining: 115ms\n",
      "996:\tlearn: 2959.0831294\ttotal: 28.8s\tremaining: 86.6ms\n",
      "997:\tlearn: 2958.6726874\ttotal: 28.8s\tremaining: 57.7ms\n",
      "998:\tlearn: 2957.7372856\ttotal: 28.8s\tremaining: 28.9ms\n",
      "999:\tlearn: 2957.4469460\ttotal: 28.9s\tremaining: 0us\n"
     ]
    },
    {
     "data": {
      "text/plain": [
       "<catboost.core.CatBoostRegressor at 0x7dae88b3b490>"
      ]
     },
     "execution_count": 28,
     "metadata": {},
     "output_type": "execute_result"
    }
   ],
   "source": [
    "import catboost as cb\n",
    "model=cb.CatBoostRegressor()\n",
    "model.fit(x_train,y_train)"
   ]
  },
  {
   "cell_type": "code",
   "execution_count": 29,
   "id": "9a280535",
   "metadata": {
    "execution": {
     "iopub.execute_input": "2023-06-23T09:16:45.860885Z",
     "iopub.status.busy": "2023-06-23T09:16:45.860499Z",
     "iopub.status.idle": "2023-06-23T09:16:46.041804Z",
     "shell.execute_reply": "2023-06-23T09:16:46.040696Z"
    },
    "papermill": {
     "duration": 0.209882,
     "end_time": "2023-06-23T09:16:46.044176",
     "exception": false,
     "start_time": "2023-06-23T09:16:45.834294",
     "status": "completed"
    },
    "tags": []
   },
   "outputs": [
    {
     "data": {
      "text/plain": [
       "array([ 7961.68044571,  7296.9341992 ,  7090.48736455, ...,\n",
       "       53004.09672613, 64391.46999666, 61171.18497202])"
      ]
     },
     "execution_count": 29,
     "metadata": {},
     "output_type": "execute_result"
    }
   ],
   "source": [
    "y_pred=model.predict(x_test)\n",
    "y_pred"
   ]
  },
  {
   "cell_type": "code",
   "execution_count": 30,
   "id": "259346c4",
   "metadata": {
    "execution": {
     "iopub.execute_input": "2023-06-23T09:16:46.094632Z",
     "iopub.status.busy": "2023-06-23T09:16:46.094264Z",
     "iopub.status.idle": "2023-06-23T09:16:46.107461Z",
     "shell.execute_reply": "2023-06-23T09:16:46.106457Z"
    },
    "papermill": {
     "duration": 0.041183,
     "end_time": "2023-06-23T09:16:46.109752",
     "exception": false,
     "start_time": "2023-06-23T09:16:46.068569",
     "status": "completed"
    },
    "tags": []
   },
   "outputs": [
    {
     "data": {
      "text/plain": [
       "0.983022681710071"
      ]
     },
     "execution_count": 30,
     "metadata": {},
     "output_type": "execute_result"
    }
   ],
   "source": [
    "from sklearn.metrics import r2_score\n",
    "r2_score(y_test,y_pred)"
   ]
  },
  {
   "cell_type": "code",
   "execution_count": null,
   "id": "763a0e4f",
   "metadata": {
    "papermill": {
     "duration": 0.024326,
     "end_time": "2023-06-23T09:16:46.158741",
     "exception": false,
     "start_time": "2023-06-23T09:16:46.134415",
     "status": "completed"
    },
    "tags": []
   },
   "outputs": [],
   "source": []
  },
  {
   "cell_type": "code",
   "execution_count": null,
   "id": "8099ecf3",
   "metadata": {
    "papermill": {
     "duration": 0.02424,
     "end_time": "2023-06-23T09:16:46.207667",
     "exception": false,
     "start_time": "2023-06-23T09:16:46.183427",
     "status": "completed"
    },
    "tags": []
   },
   "outputs": [],
   "source": []
  }
 ],
 "metadata": {
  "kernelspec": {
   "display_name": "Python 3",
   "language": "python",
   "name": "python3"
  },
  "language_info": {
   "codemirror_mode": {
    "name": "ipython",
    "version": 3
   },
   "file_extension": ".py",
   "mimetype": "text/x-python",
   "name": "python",
   "nbconvert_exporter": "python",
   "pygments_lexer": "ipython3",
   "version": "3.10.10"
  },
  "papermill": {
   "default_parameters": {},
   "duration": 55.469801,
   "end_time": "2023-06-23T09:16:47.355328",
   "environment_variables": {},
   "exception": null,
   "input_path": "__notebook__.ipynb",
   "output_path": "__notebook__.ipynb",
   "parameters": {},
   "start_time": "2023-06-23T09:15:51.885527",
   "version": "2.4.0"
  }
 },
 "nbformat": 4,
 "nbformat_minor": 5
}
